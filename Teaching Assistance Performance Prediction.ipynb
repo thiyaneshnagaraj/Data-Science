{
 "cells": [
  {
   "cell_type": "markdown",
   "id": "5178bda4",
   "metadata": {},
   "source": [
    "# Teaching Assistance Performance Prediction by Thiyaneshwaran Nagarajan"
   ]
  },
  {
   "cell_type": "markdown",
   "id": "5cd6110d",
   "metadata": {},
   "source": [
    "## To predict the overall performance of instructors"
   ]
  },
  {
   "cell_type": "code",
   "execution_count": 1,
   "id": "d2f7d457",
   "metadata": {},
   "outputs": [],
   "source": [
    "# Importing necessary libraries\n",
    "import numpy as np\n",
    "import pandas as pd\n",
    "import matplotlib.pyplot as plt\n",
    "import seaborn as sns"
   ]
  },
  {
   "cell_type": "code",
   "execution_count": 2,
   "id": "d332fed1",
   "metadata": {
    "scrolled": true
   },
   "outputs": [
    {
     "name": "stdout",
     "output_type": "stream",
     "text": [
      "(151, 6)\n"
     ]
    },
    {
     "data": {
      "text/html": [
       "<div>\n",
       "<style scoped>\n",
       "    .dataframe tbody tr th:only-of-type {\n",
       "        vertical-align: middle;\n",
       "    }\n",
       "\n",
       "    .dataframe tbody tr th {\n",
       "        vertical-align: top;\n",
       "    }\n",
       "\n",
       "    .dataframe thead th {\n",
       "        text-align: right;\n",
       "    }\n",
       "</style>\n",
       "<table border=\"1\" class=\"dataframe\">\n",
       "  <thead>\n",
       "    <tr style=\"text-align: right;\">\n",
       "      <th></th>\n",
       "      <th>Whether_of_not_the_TA_is_a_native_English_speaker</th>\n",
       "      <th>Course_instructor</th>\n",
       "      <th>Course</th>\n",
       "      <th>Summer_or_regular_semester</th>\n",
       "      <th>Class_size</th>\n",
       "      <th>Class_attribute</th>\n",
       "    </tr>\n",
       "  </thead>\n",
       "  <tbody>\n",
       "    <tr>\n",
       "      <th>0</th>\n",
       "      <td>1</td>\n",
       "      <td>23</td>\n",
       "      <td>3</td>\n",
       "      <td>1</td>\n",
       "      <td>19</td>\n",
       "      <td>3</td>\n",
       "    </tr>\n",
       "    <tr>\n",
       "      <th>1</th>\n",
       "      <td>2</td>\n",
       "      <td>15</td>\n",
       "      <td>3</td>\n",
       "      <td>1</td>\n",
       "      <td>17</td>\n",
       "      <td>3</td>\n",
       "    </tr>\n",
       "    <tr>\n",
       "      <th>2</th>\n",
       "      <td>1</td>\n",
       "      <td>23</td>\n",
       "      <td>3</td>\n",
       "      <td>2</td>\n",
       "      <td>49</td>\n",
       "      <td>3</td>\n",
       "    </tr>\n",
       "    <tr>\n",
       "      <th>3</th>\n",
       "      <td>1</td>\n",
       "      <td>5</td>\n",
       "      <td>2</td>\n",
       "      <td>2</td>\n",
       "      <td>33</td>\n",
       "      <td>3</td>\n",
       "    </tr>\n",
       "    <tr>\n",
       "      <th>4</th>\n",
       "      <td>2</td>\n",
       "      <td>7</td>\n",
       "      <td>11</td>\n",
       "      <td>2</td>\n",
       "      <td>55</td>\n",
       "      <td>3</td>\n",
       "    </tr>\n",
       "  </tbody>\n",
       "</table>\n",
       "</div>"
      ],
      "text/plain": [
       "   Whether_of_not_the_TA_is_a_native_English_speaker  Course_instructor  \\\n",
       "0                                                  1                 23   \n",
       "1                                                  2                 15   \n",
       "2                                                  1                 23   \n",
       "3                                                  1                  5   \n",
       "4                                                  2                  7   \n",
       "\n",
       "   Course  Summer_or_regular_semester  Class_size  Class_attribute  \n",
       "0       3                           1          19                3  \n",
       "1       3                           1          17                3  \n",
       "2       3                           2          49                3  \n",
       "3       2                           2          33                3  \n",
       "4      11                           2          55                3  "
      ]
     },
     "execution_count": 2,
     "metadata": {},
     "output_type": "execute_result"
    }
   ],
   "source": [
    "# Importing and reading the data\n",
    "data = pd.read_csv(\"dataset_48_tae.csv\")\n",
    "print(data.shape)\n",
    "data.head()"
   ]
  },
  {
   "cell_type": "code",
   "execution_count": 3,
   "id": "2d362c58",
   "metadata": {},
   "outputs": [],
   "source": [
    "150# Changing the longer column names\n",
    "data.rename(columns={\"Whether_of_not_the_TA_is_a_native_English_speaker\":\"Native_English_speaker\",\"Summer_or_regular_semester\":\"Semester\"},inplace=True)"
   ]
  },
  {
   "cell_type": "code",
   "execution_count": 4,
   "id": "367da9f4",
   "metadata": {},
   "outputs": [
    {
     "data": {
      "text/html": [
       "<div>\n",
       "<style scoped>\n",
       "    .dataframe tbody tr th:only-of-type {\n",
       "        vertical-align: middle;\n",
       "    }\n",
       "\n",
       "    .dataframe tbody tr th {\n",
       "        vertical-align: top;\n",
       "    }\n",
       "\n",
       "    .dataframe thead th {\n",
       "        text-align: right;\n",
       "    }\n",
       "</style>\n",
       "<table border=\"1\" class=\"dataframe\">\n",
       "  <thead>\n",
       "    <tr style=\"text-align: right;\">\n",
       "      <th></th>\n",
       "      <th>Native_English_speaker</th>\n",
       "      <th>Course_instructor</th>\n",
       "      <th>Course</th>\n",
       "      <th>Semester</th>\n",
       "      <th>Class_size</th>\n",
       "      <th>Class_attribute</th>\n",
       "    </tr>\n",
       "  </thead>\n",
       "  <tbody>\n",
       "    <tr>\n",
       "      <th>0</th>\n",
       "      <td>1</td>\n",
       "      <td>23</td>\n",
       "      <td>3</td>\n",
       "      <td>1</td>\n",
       "      <td>19</td>\n",
       "      <td>3</td>\n",
       "    </tr>\n",
       "    <tr>\n",
       "      <th>1</th>\n",
       "      <td>2</td>\n",
       "      <td>15</td>\n",
       "      <td>3</td>\n",
       "      <td>1</td>\n",
       "      <td>17</td>\n",
       "      <td>3</td>\n",
       "    </tr>\n",
       "  </tbody>\n",
       "</table>\n",
       "</div>"
      ],
      "text/plain": [
       "   Native_English_speaker  Course_instructor  Course  Semester  Class_size  \\\n",
       "0                       1                 23       3         1          19   \n",
       "1                       2                 15       3         1          17   \n",
       "\n",
       "   Class_attribute  \n",
       "0                3  \n",
       "1                3  "
      ]
     },
     "execution_count": 4,
     "metadata": {},
     "output_type": "execute_result"
    }
   ],
   "source": [
    "data.head(2)"
   ]
  },
  {
   "cell_type": "markdown",
   "id": "2ad6b2f2",
   "metadata": {},
   "source": [
    "### Feature Explanation "
   ]
  },
  {
   "cell_type": "code",
   "execution_count": 5,
   "id": "04137793",
   "metadata": {},
   "outputs": [],
   "source": [
    "# English_speaker\n",
    "# 1 --> Native speaker\n",
    "# 2 --> Non-native speaker\n",
    "# Semester\n",
    "# 1 --> Summer Semester\n",
    "# 2 --> Regular Semester"
   ]
  },
  {
   "cell_type": "code",
   "execution_count": 6,
   "id": "e704a37e",
   "metadata": {
    "scrolled": false
   },
   "outputs": [
    {
     "data": {
      "text/plain": [
       "Native_English_speaker     2\n",
       "Course_instructor         25\n",
       "Course                    26\n",
       "Semester                   2\n",
       "Class_size                46\n",
       "Class_attribute            3\n",
       "dtype: int64"
      ]
     },
     "execution_count": 6,
     "metadata": {},
     "output_type": "execute_result"
    }
   ],
   "source": [
    "# Unique values in each feature\n",
    "data.nunique()"
   ]
  },
  {
   "cell_type": "code",
   "execution_count": 7,
   "id": "cb69cced",
   "metadata": {
    "scrolled": true
   },
   "outputs": [
    {
     "name": "stdout",
     "output_type": "stream",
     "text": [
      "<class 'pandas.core.frame.DataFrame'>\n",
      "RangeIndex: 151 entries, 0 to 150\n",
      "Data columns (total 6 columns):\n",
      " #   Column                  Non-Null Count  Dtype\n",
      "---  ------                  --------------  -----\n",
      " 0   Native_English_speaker  151 non-null    int64\n",
      " 1   Course_instructor       151 non-null    int64\n",
      " 2   Course                  151 non-null    int64\n",
      " 3   Semester                151 non-null    int64\n",
      " 4   Class_size              151 non-null    int64\n",
      " 5   Class_attribute         151 non-null    int64\n",
      "dtypes: int64(6)\n",
      "memory usage: 7.2 KB\n",
      "None\n",
      "\n",
      " Number of Null Values in each feature\n"
     ]
    },
    {
     "data": {
      "text/plain": [
       "Native_English_speaker    0\n",
       "Course_instructor         0\n",
       "Course                    0\n",
       "Semester                  0\n",
       "Class_size                0\n",
       "Class_attribute           0\n",
       "dtype: int64"
      ]
     },
     "execution_count": 7,
     "metadata": {},
     "output_type": "execute_result"
    }
   ],
   "source": [
    "# checking the info and Null values of the \"data\" dataframe\n",
    "print(data.info())\n",
    "print(\"\\n Number of Null Values in each feature\")\n",
    "data.isnull().sum()"
   ]
  },
  {
   "cell_type": "markdown",
   "id": "ab462fad",
   "metadata": {},
   "source": [
    "#### Correlation of the features"
   ]
  },
  {
   "cell_type": "code",
   "execution_count": 8,
   "id": "c6f9756e",
   "metadata": {
    "scrolled": true
   },
   "outputs": [
    {
     "name": "stdout",
     "output_type": "stream",
     "text": [
      "41\n"
     ]
    },
    {
     "data": {
      "text/plain": [
       "Native_English_speaker   -0.255466\n",
       "Course_instructor         0.075095\n",
       "Course                    0.143103\n",
       "Semester                 -0.282742\n",
       "Class_size               -0.035676\n",
       "Class_attribute           1.000000\n",
       "dtype: float64"
      ]
     },
     "execution_count": 8,
     "metadata": {},
     "output_type": "execute_result"
    }
   ],
   "source": [
    "print(data.duplicated().sum())\n",
    "data.corrwith(data.Class_attribute)"
   ]
  },
  {
   "cell_type": "markdown",
   "id": "a0b6a4f5",
   "metadata": {},
   "source": [
    "# Exploratory Data Analysis"
   ]
  },
  {
   "cell_type": "code",
   "execution_count": 9,
   "id": "6449b779",
   "metadata": {
    "scrolled": true
   },
   "outputs": [
    {
     "data": {
      "text/plain": [
       "<matplotlib.legend.Legend at 0x1e07dc16af0>"
      ]
     },
     "execution_count": 9,
     "metadata": {},
     "output_type": "execute_result"
    },
    {
     "data": {
      "image/png": "[encoded data removed]",
      "text/plain": [
       "<Figure size 1800x1440 with 3 Axes>"
      ]
     },
     "metadata": {
      "needs_background": "light"
     },
     "output_type": "display_data"
    }
   ],
   "source": [
    "fig,ax=plt.subplots(3,1,figsize=(25,20))\n",
    "sns.swarmplot(x='Course_instructor',y='Course',data=data[data.Course_instructor<=9],ax=ax[0],size=10,hue='Course')\n",
    "sns.swarmplot(x='Course_instructor',y='Course',data=data[(data.Course_instructor>9)& (data.Course_instructor<=19)],ax=ax[1],size=10,hue='Course')\n",
    "sns.swarmplot(x='Course_instructor',y='Course',data=data[data.Course_instructor>19],ax=ax[2],size=10,hue='Course')\n",
    "ax[0].tick_params(axis='both',labelsize=15)\n",
    "ax[1].tick_params(axis='both',labelsize=15)\n",
    "ax[2].tick_params(axis='both',labelsize=15)\n",
    "ax[0].set_xlabel(\"Course Instructor\", fontsize=18)\n",
    "ax[0].set_ylabel(\"Courses Handled\", fontsize=18)\n",
    "ax[1].set_xlabel(\"Course Instructor\", fontsize=18)\n",
    "ax[1].set_ylabel(\"Courses Handled\", fontsize=18)\n",
    "ax[2].set_xlabel(\"Course Instructor\", fontsize=18)\n",
    "ax[2].set_ylabel(\"Courses Handled\", fontsize=18)\n",
    "plt.legend()"
   ]
  },
  {
   "cell_type": "code",
   "execution_count": 10,
   "id": "123ce2b4",
   "metadata": {
    "scrolled": true
   },
   "outputs": [
    {
     "name": "stderr",
     "output_type": "stream",
     "text": [
      "C:\\Users\\ASUS\\anaconda3\\lib\\site-packages\\seaborn\\_decorators.py:36: FutureWarning: Pass the following variable as a keyword arg: x. From version 0.12, the only valid positional argument will be `data`, and passing other arguments without an explicit keyword will result in an error or misinterpretation.\n",
      "  warnings.warn(\n",
      "C:\\Users\\ASUS\\anaconda3\\lib\\site-packages\\seaborn\\_decorators.py:36: FutureWarning: Pass the following variable as a keyword arg: x. From version 0.12, the only valid positional argument will be `data`, and passing other arguments without an explicit keyword will result in an error or misinterpretation.\n",
      "  warnings.warn(\n"
     ]
    },
    {
     "data": {
      "text/plain": [
       "Text(0, 0.5, 'Total Class Size')"
      ]
     },
     "execution_count": 10,
     "metadata": {},
     "output_type": "execute_result"
    },
    {
     "data": {
      "image/png": "[encoded data removed]",
      "text/plain": [
       "<Figure size 864x864 with 4 Axes>"
      ]
     },
     "metadata": {
      "needs_background": "light"
     },
     "output_type": "display_data"
    }
   ],
   "source": [
    "fig, ax = plt.subplots(2,2, figsize=(12,12))\n",
    "sns.countplot(data.Semester, ax=ax[0,0]) \n",
    "sns.countplot(data.Native_English_speaker, ax=ax[0,1]) \n",
    "ax[1,0].scatter(data.Course[data.Semester==1],data.Class_size[data.Semester==1],color='g')\n",
    "ax[1,0].set_xlabel('Courses in Summer Semster',fontsize=15)\n",
    "ax[1,0].set_ylabel('Total Class Size',fontsize=15)\n",
    "ax[1,1].scatter(data.Course[data.Semester==2],data.Class_size[data.Semester==2],color='r')\n",
    "ax[1,1].set_xlabel('Courses in Regular Semster',fontsize=15)\n",
    "ax[1,1].set_ylabel('Total Class Size',fontsize=15)\n"
   ]
  },
  {
   "cell_type": "code",
   "execution_count": 11,
   "id": "241b8df2",
   "metadata": {
    "scrolled": false
   },
   "outputs": [
    {
     "name": "stderr",
     "output_type": "stream",
     "text": [
      "C:\\Users\\ASUS\\anaconda3\\lib\\site-packages\\seaborn\\_decorators.py:36: FutureWarning: Pass the following variable as a keyword arg: x. From version 0.12, the only valid positional argument will be `data`, and passing other arguments without an explicit keyword will result in an error or misinterpretation.\n",
      "  warnings.warn(\n",
      "C:\\Users\\ASUS\\anaconda3\\lib\\site-packages\\seaborn\\_decorators.py:36: FutureWarning: Pass the following variable as a keyword arg: x. From version 0.12, the only valid positional argument will be `data`, and passing other arguments without an explicit keyword will result in an error or misinterpretation.\n",
      "  warnings.warn(\n",
      "C:\\Users\\ASUS\\anaconda3\\lib\\site-packages\\seaborn\\_decorators.py:36: FutureWarning: Pass the following variable as a keyword arg: x. From version 0.12, the only valid positional argument will be `data`, and passing other arguments without an explicit keyword will result in an error or misinterpretation.\n",
      "  warnings.warn(\n",
      "C:\\Users\\ASUS\\anaconda3\\lib\\site-packages\\seaborn\\_decorators.py:36: FutureWarning: Pass the following variable as a keyword arg: x. From version 0.12, the only valid positional argument will be `data`, and passing other arguments without an explicit keyword will result in an error or misinterpretation.\n",
      "  warnings.warn(\n"
     ]
    },
    {
     "data": {
      "text/plain": [
       "Text(0, 0.5, 'Count')"
      ]
     },
     "execution_count": 11,
     "metadata": {},
     "output_type": "execute_result"
    },
    {
     "data": {
      "image/png": "[encoded data removed]",
      "text/plain": [
       "<Figure size 1080x720 with 4 Axes>"
      ]
     },
     "metadata": {
      "needs_background": "light"
     },
     "output_type": "display_data"
    }
   ],
   "source": [
    "fig, ax = plt.subplots(2,2, figsize=(15,10))\n",
    "sns.countplot(data.Course[data.Semester==1], ax=ax[0,0]) \n",
    "ax[0,0].set_xlabel('Summer Semster Courses',fontsize=15)\n",
    "ax[0,0].set_ylabel('Total Count',fontsize=15)\n",
    "sns.countplot(data.Course[data.Semester==2], ax=ax[0,1]) \n",
    "ax[0,1].set_xlabel('Regular Semster Courses',fontsize=15)\n",
    "ax[0,1].set_ylabel('Total Count',fontsize=15)\n",
    "sns.countplot(data.Class_attribute[data.Native_English_speaker==1],ax=ax[1,0])\n",
    "ax[1,0].set_xlabel('Class_Attribute for Native English Speaker',fontsize=15)\n",
    "ax[1,0].set_ylabel('Count',fontsize=15)\n",
    "sns.countplot(data.Class_attribute[data.Native_English_speaker==2],ax=ax[1,1])\n",
    "ax[1,1].set_xlabel('Class_Attribute for Non Native English Speaker',fontsize=15)\n",
    "ax[1,1].set_ylabel('Count',fontsize=15)"
   ]
  },
  {
   "cell_type": "code",
   "execution_count": 12,
   "id": "ab1a36bc",
   "metadata": {
    "scrolled": true
   },
   "outputs": [
    {
     "data": {
      "text/plain": [
       "<AxesSubplot:xlabel='Course_instructor', ylabel='Semester'>"
      ]
     },
     "execution_count": 12,
     "metadata": {},
     "output_type": "execute_result"
    },
    {
     "data": {
      "image/png": "[encoded data removed]",
      "text/plain": [
       "<Figure size 1224x1152 with 3 Axes>"
      ]
     },
     "metadata": {
      "needs_background": "light"
     },
     "output_type": "display_data"
    }
   ],
   "source": [
    "fig,ax=plt.subplots(3,1,figsize=(17,16))\n",
    "sns.swarmplot(x='Course_instructor',y='Semester',size=8,data=data[data.Course_instructor<=9],hue=\"Course\",ax=ax[0])\n",
    "sns.swarmplot(x='Course_instructor',y='Semester',size=8,data=data[(data.Course_instructor>9)&(data.Course_instructor<18)],hue=\"Course\",ax=ax[1])\n",
    "sns.swarmplot(x='Course_instructor',y='Semester',size=8,data=data[data.Course_instructor>=18],hue=\"Course\",ax=ax[2])"
   ]
  },
  {
   "cell_type": "markdown",
   "id": "583cee44",
   "metadata": {},
   "source": [
    "### Checking for Balanced data"
   ]
  },
  {
   "cell_type": "code",
   "execution_count": 13,
   "id": "c979bba6",
   "metadata": {},
   "outputs": [
    {
     "data": {
      "text/plain": [
       "Counter({3: 52, 2: 50, 1: 49})"
      ]
     },
     "execution_count": 13,
     "metadata": {},
     "output_type": "execute_result"
    }
   ],
   "source": [
    "from collections import Counter\n",
    "Counter(data.Class_attribute)"
   ]
  },
  {
   "cell_type": "markdown",
   "id": "a51c62da",
   "metadata": {},
   "source": [
    "#### The feature\"Class_attribute\" is balanced with class labels"
   ]
  },
  {
   "cell_type": "code",
   "execution_count": 14,
   "id": "2bb2d7ea",
   "metadata": {
    "scrolled": false
   },
   "outputs": [
    {
     "data": {
      "text/plain": [
       "Counter({3: 45,\n",
       "         2: 16,\n",
       "         11: 9,\n",
       "         5: 5,\n",
       "         22: 3,\n",
       "         1: 14,\n",
       "         21: 3,\n",
       "         17: 10,\n",
       "         25: 3,\n",
       "         7: 7,\n",
       "         9: 3,\n",
       "         15: 10,\n",
       "         13: 3,\n",
       "         8: 4,\n",
       "         16: 3,\n",
       "         19: 1,\n",
       "         14: 1,\n",
       "         6: 2,\n",
       "         12: 1,\n",
       "         18: 2,\n",
       "         23: 1,\n",
       "         26: 1,\n",
       "         24: 1,\n",
       "         20: 1,\n",
       "         4: 1,\n",
       "         10: 1})"
      ]
     },
     "execution_count": 14,
     "metadata": {},
     "output_type": "execute_result"
    }
   ],
   "source": [
    "Counter(data.Course)"
   ]
  },
  {
   "cell_type": "markdown",
   "id": "a1744468",
   "metadata": {},
   "source": [
    "#### But the feature \"Course\" is not balanced. Here we can see, there are courses with only one data. While splitting the data for training and testing, there is high chance for the split method to leave some of the courses in the training data set. So, it is necessary to oversample with respect to courses."
   ]
  },
  {
   "cell_type": "markdown",
   "id": "bade1bb3",
   "metadata": {},
   "source": [
    "# Oversampling with respect to Courses"
   ]
  },
  {
   "cell_type": "code",
   "execution_count": 15,
   "id": "1161dd5d",
   "metadata": {},
   "outputs": [],
   "source": [
    "from sklearn.model_selection import train_test_split\n",
    "from imblearn.over_sampling import RandomOverSampler\n",
    "random_oversampler = RandomOverSampler()\n",
    "\n",
    "data2=data.loc[ : , data.columns != 'Course']\n",
    "y1=data.Course\n",
    "data3, y1_data3= random_oversampler.fit_resample(data2,y1)"
   ]
  },
  {
   "cell_type": "markdown",
   "id": "b21bc2b2",
   "metadata": {},
   "source": [
    "#### Creating a new dataframe \"data3\" with the oversampled data"
   ]
  },
  {
   "cell_type": "code",
   "execution_count": 16,
   "id": "4695c697",
   "metadata": {
    "scrolled": false
   },
   "outputs": [
    {
     "data": {
      "text/html": [
       "<div>\n",
       "<style scoped>\n",
       "    .dataframe tbody tr th:only-of-type {\n",
       "        vertical-align: middle;\n",
       "    }\n",
       "\n",
       "    .dataframe tbody tr th {\n",
       "        vertical-align: top;\n",
       "    }\n",
       "\n",
       "    .dataframe thead th {\n",
       "        text-align: right;\n",
       "    }\n",
       "</style>\n",
       "<table border=\"1\" class=\"dataframe\">\n",
       "  <thead>\n",
       "    <tr style=\"text-align: right;\">\n",
       "      <th></th>\n",
       "      <th>Native_English_speaker</th>\n",
       "      <th>Course_instructor</th>\n",
       "      <th>Semester</th>\n",
       "      <th>Class_size</th>\n",
       "      <th>Class_attribute</th>\n",
       "      <th>Course</th>\n",
       "    </tr>\n",
       "  </thead>\n",
       "  <tbody>\n",
       "    <tr>\n",
       "      <th>0</th>\n",
       "      <td>1</td>\n",
       "      <td>23</td>\n",
       "      <td>1</td>\n",
       "      <td>19</td>\n",
       "      <td>3</td>\n",
       "      <td>3</td>\n",
       "    </tr>\n",
       "    <tr>\n",
       "      <th>1</th>\n",
       "      <td>2</td>\n",
       "      <td>15</td>\n",
       "      <td>1</td>\n",
       "      <td>17</td>\n",
       "      <td>3</td>\n",
       "      <td>3</td>\n",
       "    </tr>\n",
       "    <tr>\n",
       "      <th>2</th>\n",
       "      <td>1</td>\n",
       "      <td>23</td>\n",
       "      <td>2</td>\n",
       "      <td>49</td>\n",
       "      <td>3</td>\n",
       "      <td>3</td>\n",
       "    </tr>\n",
       "    <tr>\n",
       "      <th>3</th>\n",
       "      <td>1</td>\n",
       "      <td>5</td>\n",
       "      <td>2</td>\n",
       "      <td>33</td>\n",
       "      <td>3</td>\n",
       "      <td>2</td>\n",
       "    </tr>\n",
       "    <tr>\n",
       "      <th>4</th>\n",
       "      <td>2</td>\n",
       "      <td>7</td>\n",
       "      <td>2</td>\n",
       "      <td>55</td>\n",
       "      <td>3</td>\n",
       "      <td>11</td>\n",
       "    </tr>\n",
       "    <tr>\n",
       "      <th>...</th>\n",
       "      <td>...</td>\n",
       "      <td>...</td>\n",
       "      <td>...</td>\n",
       "      <td>...</td>\n",
       "      <td>...</td>\n",
       "      <td>...</td>\n",
       "    </tr>\n",
       "    <tr>\n",
       "      <th>1165</th>\n",
       "      <td>2</td>\n",
       "      <td>24</td>\n",
       "      <td>2</td>\n",
       "      <td>21</td>\n",
       "      <td>2</td>\n",
       "      <td>26</td>\n",
       "    </tr>\n",
       "    <tr>\n",
       "      <th>1166</th>\n",
       "      <td>2</td>\n",
       "      <td>24</td>\n",
       "      <td>2</td>\n",
       "      <td>21</td>\n",
       "      <td>2</td>\n",
       "      <td>26</td>\n",
       "    </tr>\n",
       "    <tr>\n",
       "      <th>1167</th>\n",
       "      <td>2</td>\n",
       "      <td>24</td>\n",
       "      <td>2</td>\n",
       "      <td>21</td>\n",
       "      <td>2</td>\n",
       "      <td>26</td>\n",
       "    </tr>\n",
       "    <tr>\n",
       "      <th>1168</th>\n",
       "      <td>2</td>\n",
       "      <td>24</td>\n",
       "      <td>2</td>\n",
       "      <td>21</td>\n",
       "      <td>2</td>\n",
       "      <td>26</td>\n",
       "    </tr>\n",
       "    <tr>\n",
       "      <th>1169</th>\n",
       "      <td>2</td>\n",
       "      <td>24</td>\n",
       "      <td>2</td>\n",
       "      <td>21</td>\n",
       "      <td>2</td>\n",
       "      <td>26</td>\n",
       "    </tr>\n",
       "  </tbody>\n",
       "</table>\n",
       "<p>1170 rows × 6 columns</p>\n",
       "</div>"
      ],
      "text/plain": [
       "      Native_English_speaker  Course_instructor  Semester  Class_size  \\\n",
       "0                          1                 23         1          19   \n",
       "1                          2                 15         1          17   \n",
       "2                          1                 23         2          49   \n",
       "3                          1                  5         2          33   \n",
       "4                          2                  7         2          55   \n",
       "...                      ...                ...       ...         ...   \n",
       "1165                       2                 24         2          21   \n",
       "1166                       2                 24         2          21   \n",
       "1167                       2                 24         2          21   \n",
       "1168                       2                 24         2          21   \n",
       "1169                       2                 24         2          21   \n",
       "\n",
       "      Class_attribute  Course  \n",
       "0                   3       3  \n",
       "1                   3       3  \n",
       "2                   3       3  \n",
       "3                   3       2  \n",
       "4                   3      11  \n",
       "...               ...     ...  \n",
       "1165                2      26  \n",
       "1166                2      26  \n",
       "1167                2      26  \n",
       "1168                2      26  \n",
       "1169                2      26  \n",
       "\n",
       "[1170 rows x 6 columns]"
      ]
     },
     "execution_count": 16,
     "metadata": {},
     "output_type": "execute_result"
    }
   ],
   "source": [
    "data3['Course']=y1_data3\n",
    "data3"
   ]
  },
  {
   "cell_type": "code",
   "execution_count": 17,
   "id": "014b37fb",
   "metadata": {
    "scrolled": true
   },
   "outputs": [
    {
     "data": {
      "text/plain": [
       "Counter({3: 45,\n",
       "         2: 45,\n",
       "         11: 45,\n",
       "         5: 45,\n",
       "         22: 45,\n",
       "         1: 45,\n",
       "         21: 45,\n",
       "         17: 45,\n",
       "         25: 45,\n",
       "         7: 45,\n",
       "         9: 45,\n",
       "         15: 45,\n",
       "         13: 45,\n",
       "         8: 45,\n",
       "         16: 45,\n",
       "         19: 45,\n",
       "         14: 45,\n",
       "         6: 45,\n",
       "         12: 45,\n",
       "         18: 45,\n",
       "         23: 45,\n",
       "         26: 45,\n",
       "         24: 45,\n",
       "         20: 45,\n",
       "         4: 45,\n",
       "         10: 45})"
      ]
     },
     "execution_count": 17,
     "metadata": {},
     "output_type": "execute_result"
    }
   ],
   "source": [
    "Counter(data3.Course)"
   ]
  },
  {
   "cell_type": "markdown",
   "id": "919d3991",
   "metadata": {},
   "source": [
    "#### Now the data is balanced with respect to courses"
   ]
  },
  {
   "cell_type": "markdown",
   "id": "91b8620e",
   "metadata": {},
   "source": [
    "# Features Selection"
   ]
  },
  {
   "cell_type": "code",
   "execution_count": 18,
   "id": "158162cd",
   "metadata": {},
   "outputs": [],
   "source": [
    "X = data3.loc[ : , data3.columns != 'Class_attribute']\n",
    "y = data3.Class_attribute"
   ]
  },
  {
   "cell_type": "code",
   "execution_count": 19,
   "id": "9e0e0670",
   "metadata": {},
   "outputs": [
    {
     "name": "stdout",
     "output_type": "stream",
     "text": [
      "(877, 5)\n"
     ]
    },
    {
     "data": {
      "text/plain": [
       "(877,)"
      ]
     },
     "execution_count": 19,
     "metadata": {},
     "output_type": "execute_result"
    }
   ],
   "source": [
    "from sklearn.model_selection import train_test_split\n",
    "X_train, X_test, y_train,y_test= train_test_split(X,y)\n",
    "print(X_train.shape)\n",
    "y_train.shape"
   ]
  },
  {
   "cell_type": "code",
   "execution_count": 20,
   "id": "c97cb1df",
   "metadata": {},
   "outputs": [
    {
     "data": {
      "text/html": [
       "<div>\n",
       "<style scoped>\n",
       "    .dataframe tbody tr th:only-of-type {\n",
       "        vertical-align: middle;\n",
       "    }\n",
       "\n",
       "    .dataframe tbody tr th {\n",
       "        vertical-align: top;\n",
       "    }\n",
       "\n",
       "    .dataframe thead th {\n",
       "        text-align: right;\n",
       "    }\n",
       "</style>\n",
       "<table border=\"1\" class=\"dataframe\">\n",
       "  <thead>\n",
       "    <tr style=\"text-align: right;\">\n",
       "      <th></th>\n",
       "      <th>Native_English_speaker</th>\n",
       "      <th>Course_instructor</th>\n",
       "      <th>Semester</th>\n",
       "      <th>Class_size</th>\n",
       "      <th>Course</th>\n",
       "    </tr>\n",
       "  </thead>\n",
       "  <tbody>\n",
       "    <tr>\n",
       "      <th>0</th>\n",
       "      <td>1</td>\n",
       "      <td>23</td>\n",
       "      <td>1</td>\n",
       "      <td>19</td>\n",
       "      <td>3</td>\n",
       "    </tr>\n",
       "    <tr>\n",
       "      <th>1</th>\n",
       "      <td>2</td>\n",
       "      <td>15</td>\n",
       "      <td>1</td>\n",
       "      <td>17</td>\n",
       "      <td>3</td>\n",
       "    </tr>\n",
       "    <tr>\n",
       "      <th>2</th>\n",
       "      <td>1</td>\n",
       "      <td>23</td>\n",
       "      <td>2</td>\n",
       "      <td>49</td>\n",
       "      <td>3</td>\n",
       "    </tr>\n",
       "    <tr>\n",
       "      <th>3</th>\n",
       "      <td>1</td>\n",
       "      <td>5</td>\n",
       "      <td>2</td>\n",
       "      <td>33</td>\n",
       "      <td>2</td>\n",
       "    </tr>\n",
       "    <tr>\n",
       "      <th>4</th>\n",
       "      <td>2</td>\n",
       "      <td>7</td>\n",
       "      <td>2</td>\n",
       "      <td>55</td>\n",
       "      <td>11</td>\n",
       "    </tr>\n",
       "  </tbody>\n",
       "</table>\n",
       "</div>"
      ],
      "text/plain": [
       "   Native_English_speaker  Course_instructor  Semester  Class_size  Course\n",
       "0                       1                 23         1          19       3\n",
       "1                       2                 15         1          17       3\n",
       "2                       1                 23         2          49       3\n",
       "3                       1                  5         2          33       2\n",
       "4                       2                  7         2          55      11"
      ]
     },
     "execution_count": 20,
     "metadata": {},
     "output_type": "execute_result"
    }
   ],
   "source": [
    "X.head()"
   ]
  },
  {
   "cell_type": "code",
   "execution_count": 21,
   "id": "027806f5",
   "metadata": {
    "scrolled": true
   },
   "outputs": [
    {
     "data": {
      "text/plain": [
       "Counter({1: 264, 2: 352, 3: 261})"
      ]
     },
     "execution_count": 21,
     "metadata": {},
     "output_type": "execute_result"
    }
   ],
   "source": [
    "Counter(y_train)"
   ]
  },
  {
   "cell_type": "markdown",
   "id": "091f0b0d",
   "metadata": {},
   "source": [
    "#### The data in y_train is almost balanced"
   ]
  },
  {
   "cell_type": "markdown",
   "id": "629e3a67",
   "metadata": {},
   "source": [
    "# Defining the various classification ML models"
   ]
  },
  {
   "cell_type": "code",
   "execution_count": 22,
   "id": "ec25fc44",
   "metadata": {},
   "outputs": [],
   "source": [
    "from sklearn.neighbors import KNeighborsClassifier\n",
    "from sklearn.svm import SVC\n",
    "from sklearn.tree import DecisionTreeClassifier\n",
    "from sklearn.ensemble import RandomForestClassifier\n",
    "from xgboost import XGBClassifier\n",
    "from sklearn.naive_bayes import BernoulliNB\n",
    "model_KNN = KNeighborsClassifier(n_neighbors= 5)\n",
    "model_SVC = SVC(random_state=7)\n",
    "model_tree = DecisionTreeClassifier()\n",
    "model_forest = RandomForestClassifier()\n",
    "model_XGB = XGBClassifier(eval_metric='mlogloss')\n",
    "model_NB = BernoulliNB()"
   ]
  },
  {
   "cell_type": "code",
   "execution_count": 23,
   "id": "9c302127",
   "metadata": {},
   "outputs": [],
   "source": [
    "import warnings\n",
    "warnings.filterwarnings(\"ignore\")"
   ]
  },
  {
   "cell_type": "markdown",
   "id": "c69e2fa0",
   "metadata": {},
   "source": [
    "## Fitting the above defined ML models"
   ]
  },
  {
   "cell_type": "code",
   "execution_count": 24,
   "id": "bfbc43de",
   "metadata": {
    "scrolled": true
   },
   "outputs": [],
   "source": [
    "# KNN\n",
    "model_KNN.fit(X_train, y_train)\n",
    "y_predict_KNN = model_KNN.predict(X_test)\n",
    "# SVM\n",
    "model_SVC.fit(X_train, y_train)\n",
    "y_predict_SVC = model_SVC.predict(X_test)\n",
    "# Decision Tree\n",
    "model_tree.fit(X_train, y_train)\n",
    "y_predict_tree = model_tree.predict(X_test)\n",
    "# Random Forest\n",
    "model_forest.fit(X_train, y_train)\n",
    "y_predict_forest = model_forest.predict(X_test)\n",
    "# XG Boost\n",
    "model_XGB.fit(X_train, y_train)\n",
    "y_predict_XGB = model_XGB.predict(X_test)\n",
    "# Naives Baiyes\n",
    "model_NB.fit(X_train, y_train)\n",
    "y_predict_NB = model_NB.predict(X_test)"
   ]
  },
  {
   "cell_type": "markdown",
   "id": "ae9f61bc",
   "metadata": {},
   "source": [
    "## Accuracy scores of various ML models"
   ]
  },
  {
   "cell_type": "code",
   "execution_count": 25,
   "id": "ef8653f9",
   "metadata": {
    "scrolled": false
   },
   "outputs": [
    {
     "name": "stdout",
     "output_type": "stream",
     "text": [
      "[0.9590443686006825, 0.6143344709897611, 0.9761092150170648, 0.9795221843003413, 0.9795221843003413, 0.447098976109215]\n"
     ]
    },
    {
     "data": {
      "text/plain": [
       "Text(0, 0.5, 'Accuracy Score')"
      ]
     },
     "execution_count": 25,
     "metadata": {},
     "output_type": "execute_result"
    },
    {
     "data": {
      "image/png": "[encoded data removed]",
      "text/plain": [
       "<Figure size 360x360 with 1 Axes>"
      ]
     },
     "metadata": {
      "needs_background": "light"
     },
     "output_type": "display_data"
    }
   ],
   "source": [
    "from sklearn.metrics import accuracy_score, classification_report, confusion_matrix\n",
    "accuracy_KNN =accuracy_score(y_test,y_predict_KNN)\n",
    "accuracy_SVC=accuracy_score(y_test,y_predict_SVC)\n",
    "accuracy_tree=accuracy_score(y_test,y_predict_tree)\n",
    "accuracy_forest=accuracy_score(y_test,y_predict_forest)\n",
    "accuracy_XGB=accuracy_score(y_test,y_predict_XGB)\n",
    "accuracy_NB=accuracy_score(y_test,y_predict_NB)\n",
    "models_names=[\"model_KNN\",\"model_SVC\",\"model_tree\",\"model_forest\",\"model_XGB\",\"model_NB\"]\n",
    "score=[accuracy_KNN,accuracy_SVC,accuracy_tree,accuracy_forest,accuracy_XGB,accuracy_NB]\n",
    "print(score)\n",
    "fig,ax=plt.subplots(figsize=(5,5))\n",
    "ax.bar(models_names,score)\n",
    "ax.tick_params(axis='both',labelsize=13,rotation=90)\n",
    "ax.set_xlabel('Different Classification Models',fontsize=15)\n",
    "ax.set_ylabel('Accuracy Score',fontsize=15)"
   ]
  },
  {
   "cell_type": "markdown",
   "id": "2bca37da",
   "metadata": {},
   "source": [
    "#### The Decision Tree, Random Forest and XG Boost gave almost similar Accuracy Score "
   ]
  },
  {
   "cell_type": "markdown",
   "id": "b1003844",
   "metadata": {},
   "source": [
    "# Confusion Matrix"
   ]
  },
  {
   "cell_type": "code",
   "execution_count": 26,
   "id": "6aab2c86",
   "metadata": {},
   "outputs": [
    {
     "data": {
      "text/plain": [
       "array([[ 84,   1,   0],\n",
       "       [  4, 126,   1],\n",
       "       [  0,   1,  76]], dtype=int64)"
      ]
     },
     "execution_count": 26,
     "metadata": {},
     "output_type": "execute_result"
    }
   ],
   "source": [
    "#Confusion Matrix for Decision Tree\n",
    "confusion_tree = confusion_matrix(y_test,y_predict_tree)\n",
    "confusion_tree"
   ]
  },
  {
   "cell_type": "code",
   "execution_count": 27,
   "id": "38a4f439",
   "metadata": {
    "scrolled": true
   },
   "outputs": [
    {
     "data": {
      "text/plain": [
       "array([[ 84,   1,   0],\n",
       "       [  3, 126,   2],\n",
       "       [  0,   0,  77]], dtype=int64)"
      ]
     },
     "execution_count": 27,
     "metadata": {},
     "output_type": "execute_result"
    }
   ],
   "source": [
    "#Confusion Matrix for Random Forest\n",
    "confusion_forest = confusion_matrix(y_test,y_predict_forest)\n",
    "confusion_forest"
   ]
  },
  {
   "cell_type": "code",
   "execution_count": 28,
   "id": "821f3bbc",
   "metadata": {
    "scrolled": true
   },
   "outputs": [
    {
     "data": {
      "text/plain": [
       "array([[ 85,   0,   0],\n",
       "       [  3, 126,   2],\n",
       "       [  1,   0,  76]], dtype=int64)"
      ]
     },
     "execution_count": 28,
     "metadata": {},
     "output_type": "execute_result"
    }
   ],
   "source": [
    "#Confusion Matrix for XG Boost\n",
    "confusion_XGB = confusion_matrix(y_test,y_predict_XGB)\n",
    "confusion_XGB"
   ]
  },
  {
   "cell_type": "markdown",
   "id": "5b47d5f1",
   "metadata": {},
   "source": [
    "#### The Decision Tree, Random Forest and XG Boost gives similar Predicion and Confusion Matrix "
   ]
  },
  {
   "cell_type": "markdown",
   "id": "7bb0a291",
   "metadata": {},
   "source": [
    "# K Fold Cross Validation"
   ]
  },
  {
   "cell_type": "code",
   "execution_count": 29,
   "id": "0c6a9098",
   "metadata": {
    "scrolled": true
   },
   "outputs": [],
   "source": [
    "from sklearn.model_selection import cross_val_score\n",
    "models= [model_KNN,model_SVC,model_tree,model_forest,model_XGB,model_NB]\n",
    "def cross_val(models,X,y):\n",
    "    global avg_cv_scores\n",
    "    avg_cv_scores=[]\n",
    "    cv_score_names=['cv_score_KNN','cv_score_SVC','cv_score_tree','cv_score_forest','cv_score_XGB','cv_score_NB']\n",
    "    global cv_score_names2\n",
    "    cv_score_names2=['cv_score_KNN','cv_score_SVC','cv_score_tree','cv_score_forest','cv_score_XGB','cv_score_NB']\n",
    "    for i in np.arange(0,6):\n",
    "        cv_score_names[i] = cross_val_score(models[i],X,y,cv=10,scoring='accuracy')\n",
    "        avg_cv_scores.append(cv_score_names[i].mean())\n",
    "        print(cv_score_names2[i],':',cv_score_names[i])\n",
    "        print(\"Average Accuracy:\",cv_score_names[i].mean())\n",
    "        print(\"Std :\",cv_score_names[i].std())\n",
    "        print('\\n')"
   ]
  },
  {
   "cell_type": "code",
   "execution_count": 30,
   "id": "ab7af10c",
   "metadata": {
    "scrolled": true
   },
   "outputs": [
    {
     "name": "stdout",
     "output_type": "stream",
     "text": [
      "cv_score_KNN : [0.69230769 0.54700855 0.47863248 0.91452991 0.92307692 0.47008547\n",
      " 0.98290598 0.94017094 0.84615385 0.62393162]\n",
      "Average Accuracy: 0.7418803418803419\n",
      "Std : 0.19194838227910666\n",
      "\n",
      "\n",
      "cv_score_SVC : [0.54700855 0.52136752 0.41880342 0.41025641 0.74358974 0.67521368\n",
      " 0.8974359  0.16239316 0.68376068 0.32478632]\n",
      "Average Accuracy: 0.5384615384615385\n",
      "Std : 0.20711290572117552\n",
      "\n",
      "\n",
      "cv_score_tree : [0.76923077 0.83760684 1.         1.         1.         0.92307692\n",
      " 1.         0.99145299 1.         1.        ]\n",
      "Average Accuracy: 0.9521367521367521\n",
      "Std : 0.07918793040615704\n",
      "\n",
      "\n",
      "cv_score_forest : [0.79487179 0.83760684 1.         1.         1.         0.92307692\n",
      " 1.         0.99145299 1.         1.        ]\n",
      "Average Accuracy: 0.9547008547008546\n",
      "Std : 0.0734296978076694\n",
      "\n",
      "\n",
      "cv_score_XGB : [0.78632479 0.70940171 1.         1.         1.         0.92307692\n",
      " 1.         0.99145299 1.         1.        ]\n",
      "Average Accuracy: 0.941025641025641\n",
      "Std : 0.10065531500713087\n",
      "\n",
      "\n",
      "cv_score_NB : [0.41880342 0.41025641 0.41025641 0.41025641 0.41025641 0.41025641\n",
      " 0.41025641 0.41025641 0.41880342 0.41880342]\n",
      "Average Accuracy: 0.4128205128205128\n",
      "Std : 0.003916731363210131\n",
      "\n",
      "\n"
     ]
    }
   ],
   "source": [
    "cross_val(models,X,y)"
   ]
  },
  {
   "cell_type": "markdown",
   "id": "0258652f",
   "metadata": {},
   "source": [
    "### Cross Validation Accuracy Score Plot"
   ]
  },
  {
   "cell_type": "code",
   "execution_count": 31,
   "id": "31ac902e",
   "metadata": {
    "scrolled": false
   },
   "outputs": [
    {
     "name": "stdout",
     "output_type": "stream",
     "text": [
      "[0.7418803418803419, 0.5384615384615385, 0.9521367521367521, 0.9547008547008546, 0.941025641025641, 0.4128205128205128]\n"
     ]
    },
    {
     "data": {
      "image/png": "[encoded data removed]",
      "text/plain": [
       "<Figure size 360x360 with 1 Axes>"
      ]
     },
     "metadata": {
      "needs_background": "light"
     },
     "output_type": "display_data"
    }
   ],
   "source": [
    "print(avg_cv_scores)\n",
    "fig,ax=plt.subplots(figsize=(5,5))\n",
    "ax.bar(models_names,avg_cv_scores)\n",
    "ax.set_xlabel('Different Classification Models',fontsize=15)\n",
    "ax.set_ylabel('Average Cross Validation Accuracy Score',fontsize=15)\n",
    "ax.tick_params(axis='both',labelsize=13,rotation=90)"
   ]
  },
  {
   "cell_type": "markdown",
   "id": "7dfbd064",
   "metadata": {},
   "source": [
    "#### Leaving out K-Nearesr Neighbours, Support Vector Classification and Naives Baiyes for Hyper Parameter Tuning, as they give very low accuracy score."
   ]
  },
  {
   "cell_type": "markdown",
   "id": "dafc066b",
   "metadata": {},
   "source": [
    "# Hyper Parameter Tuning"
   ]
  },
  {
   "cell_type": "markdown",
   "id": "77f117ab",
   "metadata": {},
   "source": [
    "### Hyper Paramter tuning for Decision Tree, Random Forest and XG Boost"
   ]
  },
  {
   "cell_type": "code",
   "execution_count": 32,
   "id": "7d907900",
   "metadata": {},
   "outputs": [],
   "source": [
    "from sklearn.model_selection import GridSearchCV, RandomizedSearchCV\n",
    "parameters_tree = {'random_state': [7,10,12,15,17,20,22,25,30,35,40,45,50]}  \n",
    "parameters_forest = {'random_state': [7,10,12,15,17,20,22,25,30,35,40,45,50],\n",
    "                      'n_estimators':np.arange(7,15) \n",
    "                     }  \n",
    "parameters_XGB = {'random_state': [7,10,12,15,17,20,22,25,30,35,40,45,50]} #[7,10,12,15,17,20,22,25,30,35,40,45,50] #[7,10,12,15]\n",
    "parameters=[0,0,parameters_tree,parameters_forest,parameters_XGB]\n",
    "\n",
    "def hyper_parameter(models,X,y):\n",
    "    Classifier=['0','0','Decision Tree','Random Forest','XGB Boost']\n",
    "    global grid_names\n",
    "    grid_names=['0','0','grid_tree','grid_forest','grid_XGB']\n",
    "    for i in np.arange(2,5):\n",
    "        grid_names[i] = GridSearchCV(models[i],parameters[i],cv=10,verbose=1)\n",
    "        grid_names[i].fit(X,y)\n",
    "        print(\"Best Score for \",Classifier[i],\"model is\", grid_names[i].best_score_)\n",
    "        print(\"Best Parameters for \",Classifier[i],\"model is\", grid_names[i].best_params_)\n",
    "        print('\\n')"
   ]
  },
  {
   "cell_type": "code",
   "execution_count": 33,
   "id": "0b740344",
   "metadata": {
    "scrolled": false
   },
   "outputs": [
    {
     "name": "stdout",
     "output_type": "stream",
     "text": [
      "Fitting 10 folds for each of 13 candidates, totalling 130 fits\n",
      "Best Score for  Decision Tree model is 0.9529914529914529\n",
      "Best Parameters for  Decision Tree model is {'random_state': 12}\n",
      "\n",
      "\n",
      "Fitting 10 folds for each of 104 candidates, totalling 1040 fits\n",
      "Best Score for  Random Forest model is 0.9658119658119657\n",
      "Best Parameters for  Random Forest model is {'n_estimators': 10, 'random_state': 45}\n",
      "\n",
      "\n",
      "Fitting 10 folds for each of 13 candidates, totalling 130 fits\n",
      "Best Score for  XGB Boost model is 0.941025641025641\n",
      "Best Parameters for  XGB Boost model is {'random_state': 7}\n",
      "\n",
      "\n"
     ]
    }
   ],
   "source": [
    "hyper_parameter(models,X,y)"
   ]
  },
  {
   "cell_type": "markdown",
   "id": "a7b516e6",
   "metadata": {},
   "source": [
    "#### The random forest classifier gives the highest accuracy score"
   ]
  },
  {
   "cell_type": "markdown",
   "id": "d4218792",
   "metadata": {},
   "source": [
    "## Best parameters for Random Forest Model"
   ]
  },
  {
   "cell_type": "code",
   "execution_count": 34,
   "id": "d5f117f4",
   "metadata": {
    "scrolled": true
   },
   "outputs": [
    {
     "data": {
      "text/plain": [
       "{'n_estimators': 10, 'random_state': 45}"
      ]
     },
     "execution_count": 34,
     "metadata": {},
     "output_type": "execute_result"
    }
   ],
   "source": [
    "grid_names[3].best_params_"
   ]
  },
  {
   "cell_type": "markdown",
   "id": "bec14bb1",
   "metadata": {},
   "source": [
    "### Choosing Random forest model than others to avoid overfitting"
   ]
  },
  {
   "cell_type": "markdown",
   "id": "6c5945fd",
   "metadata": {},
   "source": [
    "# Final Random Forest Model with Hyper Tuned Parameters"
   ]
  },
  {
   "cell_type": "markdown",
   "id": "99d0a99b",
   "metadata": {},
   "source": [
    "### Final Model with Cross Vals Score"
   ]
  },
  {
   "cell_type": "code",
   "execution_count": 35,
   "id": "31621af4",
   "metadata": {
    "scrolled": false
   },
   "outputs": [
    {
     "name": "stdout",
     "output_type": "stream",
     "text": [
      "[0.79487179 0.87179487 1.         1.         1.         1.\n",
      " 1.         0.99145299 1.         1.        ]\n",
      "Final Random Forest Model CV Average Accuracy Score:  0.9658119658119657\n"
     ]
    }
   ],
   "source": [
    "final_model_forest = RandomForestClassifier(n_estimators=grid_names[3].best_params_['n_estimators'], random_state=grid_names[3].best_params_['random_state'])\n",
    "final_cv_score = cross_val_score(final_model_forest,X,y,cv=10,scoring='accuracy')\n",
    "print(final_cv_score)\n",
    "print(\"Final Random Forest Model CV Average Accuracy Score: \", final_cv_score.mean())"
   ]
  },
  {
   "cell_type": "markdown",
   "id": "0a9dd2cc",
   "metadata": {},
   "source": [
    "### Explicit Stratified K fold Final Model"
   ]
  },
  {
   "cell_type": "code",
   "execution_count": 36,
   "id": "b6fbcac8",
   "metadata": {
    "scrolled": true
   },
   "outputs": [
    {
     "name": "stdout",
     "output_type": "stream",
     "text": [
      "Classification Report of 1 K Fold is \n",
      "               precision    recall  f1-score   support\n",
      "\n",
      "           1       0.97      0.94      0.96        34\n",
      "           2       0.94      1.00      0.97        49\n",
      "           3       1.00      0.94      0.97        34\n",
      "\n",
      "    accuracy                           0.97       117\n",
      "   macro avg       0.97      0.96      0.97       117\n",
      "weighted avg       0.97      0.97      0.97       117\n",
      "\n",
      "Classification Report of 2 K Fold is \n",
      "               precision    recall  f1-score   support\n",
      "\n",
      "           1       1.00      1.00      1.00        35\n",
      "           2       1.00      1.00      1.00        48\n",
      "           3       1.00      1.00      1.00        34\n",
      "\n",
      "    accuracy                           1.00       117\n",
      "   macro avg       1.00      1.00      1.00       117\n",
      "weighted avg       1.00      1.00      1.00       117\n",
      "\n",
      "Classification Report of 3 K Fold is \n",
      "               precision    recall  f1-score   support\n",
      "\n",
      "           1       1.00      1.00      1.00        35\n",
      "           2       1.00      1.00      1.00        48\n",
      "           3       1.00      1.00      1.00        34\n",
      "\n",
      "    accuracy                           1.00       117\n",
      "   macro avg       1.00      1.00      1.00       117\n",
      "weighted avg       1.00      1.00      1.00       117\n",
      "\n",
      "Classification Report of 4 K Fold is \n",
      "               precision    recall  f1-score   support\n",
      "\n",
      "           1       1.00      0.97      0.99        35\n",
      "           2       0.98      0.98      0.98        48\n",
      "           3       0.97      1.00      0.99        34\n",
      "\n",
      "    accuracy                           0.98       117\n",
      "   macro avg       0.98      0.98      0.98       117\n",
      "weighted avg       0.98      0.98      0.98       117\n",
      "\n",
      "Classification Report of 5 K Fold is \n",
      "               precision    recall  f1-score   support\n",
      "\n",
      "           1       1.00      0.97      0.99        35\n",
      "           2       0.98      1.00      0.99        48\n",
      "           3       1.00      1.00      1.00        34\n",
      "\n",
      "    accuracy                           0.99       117\n",
      "   macro avg       0.99      0.99      0.99       117\n",
      "weighted avg       0.99      0.99      0.99       117\n",
      "\n",
      "Classification Report of 6 K Fold is \n",
      "               precision    recall  f1-score   support\n",
      "\n",
      "           1       1.00      1.00      1.00        35\n",
      "           2       0.96      0.98      0.97        48\n",
      "           3       0.97      0.94      0.96        34\n",
      "\n",
      "    accuracy                           0.97       117\n",
      "   macro avg       0.98      0.97      0.97       117\n",
      "weighted avg       0.97      0.97      0.97       117\n",
      "\n",
      "Classification Report of 7 K Fold is \n",
      "               precision    recall  f1-score   support\n",
      "\n",
      "           1       0.97      1.00      0.99        35\n",
      "           2       1.00      0.98      0.99        48\n",
      "           3       1.00      1.00      1.00        34\n",
      "\n",
      "    accuracy                           0.99       117\n",
      "   macro avg       0.99      0.99      0.99       117\n",
      "weighted avg       0.99      0.99      0.99       117\n",
      "\n",
      "Classification Report of 8 K Fold is \n",
      "               precision    recall  f1-score   support\n",
      "\n",
      "           1       0.97      0.97      0.97        35\n",
      "           2       0.96      0.98      0.97        48\n",
      "           3       1.00      0.97      0.99        34\n",
      "\n",
      "    accuracy                           0.97       117\n",
      "   macro avg       0.98      0.97      0.98       117\n",
      "weighted avg       0.97      0.97      0.97       117\n",
      "\n",
      "Classification Report of 9 K Fold is \n",
      "               precision    recall  f1-score   support\n",
      "\n",
      "           1       0.97      1.00      0.99        35\n",
      "           2       0.98      0.96      0.97        49\n",
      "           3       0.97      0.97      0.97        33\n",
      "\n",
      "    accuracy                           0.97       117\n",
      "   macro avg       0.97      0.98      0.97       117\n",
      "weighted avg       0.97      0.97      0.97       117\n",
      "\n",
      "Classification Report of 10 K Fold is \n",
      "               precision    recall  f1-score   support\n",
      "\n",
      "           1       0.94      0.97      0.96        35\n",
      "           2       1.00      0.98      0.99        49\n",
      "           3       0.97      0.97      0.97        33\n",
      "\n",
      "    accuracy                           0.97       117\n",
      "   macro avg       0.97      0.97      0.97       117\n",
      "weighted avg       0.97      0.97      0.97       117\n",
      "\n"
     ]
    }
   ],
   "source": [
    "from sklearn.model_selection import StratifiedKFold\n",
    "skf = StratifiedKFold(n_splits=10,shuffle=True)\n",
    "accuracy_score_final=[]\n",
    "conf_matrix=[]\n",
    "i=1\n",
    "for train_index, test_index in skf.split(X=X,y=y):\n",
    "    Xf_train, Xf_test = X.loc[train_index], X.loc[test_index]\n",
    "    yf_train, yf_test = y[train_index], y[test_index]\n",
    "    final_model_forest.fit(Xf_train,yf_train)\n",
    "    y_predict_final= final_model_forest.predict(Xf_test)\n",
    "    score_final=accuracy_score(yf_test,y_predict_final)\n",
    "    accuracy_score_final.append(score_final)\n",
    "    conf=confusion_matrix(yf_test,y_predict_final)\n",
    "    conf_matrix.append(conf)\n",
    "    class_report = classification_report(yf_test,y_predict_final)\n",
    "    print(\"Classification Report of\", i ,\"K Fold is\",'\\n',class_report)\n",
    "    i+=1"
   ]
  },
  {
   "cell_type": "markdown",
   "id": "7ba77cdb",
   "metadata": {},
   "source": [
    "### Accuracy Scores of 10 Stratified K fold"
   ]
  },
  {
   "cell_type": "code",
   "execution_count": 37,
   "id": "12e9ecd1",
   "metadata": {
    "scrolled": true
   },
   "outputs": [
    {
     "data": {
      "text/plain": [
       "[0.9658119658119658,\n",
       " 1.0,\n",
       " 1.0,\n",
       " 0.9829059829059829,\n",
       " 0.9914529914529915,\n",
       " 0.9743589743589743,\n",
       " 0.9914529914529915,\n",
       " 0.9743589743589743,\n",
       " 0.9743589743589743,\n",
       " 0.9743589743589743]"
      ]
     },
     "execution_count": 37,
     "metadata": {},
     "output_type": "execute_result"
    }
   ],
   "source": [
    "accuracy_score_final"
   ]
  },
  {
   "cell_type": "markdown",
   "id": "3fde6302",
   "metadata": {},
   "source": [
    "### Average Accuracy Score"
   ]
  },
  {
   "cell_type": "code",
   "execution_count": 38,
   "id": "27e5ccb9",
   "metadata": {},
   "outputs": [
    {
     "data": {
      "text/plain": [
       "0.982905982905983"
      ]
     },
     "execution_count": 38,
     "metadata": {},
     "output_type": "execute_result"
    }
   ],
   "source": [
    "np.array(accuracy_score_final).mean()"
   ]
  },
  {
   "cell_type": "markdown",
   "id": "724ac2ad",
   "metadata": {},
   "source": [
    "### Confusion Matrix of 10 Stratified K fold"
   ]
  },
  {
   "cell_type": "code",
   "execution_count": 39,
   "id": "eeb7779c",
   "metadata": {
    "scrolled": true
   },
   "outputs": [
    {
     "name": "stdout",
     "output_type": "stream",
     "text": [
      "Confusion Matrix of 1 K Fold is \n",
      " [[32  2  0]\n",
      " [ 0 49  0]\n",
      " [ 1  1 32]]\n",
      "Confusion Matrix of 2 K Fold is \n",
      " [[35  0  0]\n",
      " [ 0 48  0]\n",
      " [ 0  0 34]]\n",
      "Confusion Matrix of 3 K Fold is \n",
      " [[35  0  0]\n",
      " [ 0 48  0]\n",
      " [ 0  0 34]]\n",
      "Confusion Matrix of 4 K Fold is \n",
      " [[34  1  0]\n",
      " [ 0 47  1]\n",
      " [ 0  0 34]]\n",
      "Confusion Matrix of 5 K Fold is \n",
      " [[34  1  0]\n",
      " [ 0 48  0]\n",
      " [ 0  0 34]]\n",
      "Confusion Matrix of 6 K Fold is \n",
      " [[35  0  0]\n",
      " [ 0 47  1]\n",
      " [ 0  2 32]]\n",
      "Confusion Matrix of 7 K Fold is \n",
      " [[35  0  0]\n",
      " [ 1 47  0]\n",
      " [ 0  0 34]]\n",
      "Confusion Matrix of 8 K Fold is \n",
      " [[34  1  0]\n",
      " [ 1 47  0]\n",
      " [ 0  1 33]]\n",
      "Confusion Matrix of 9 K Fold is \n",
      " [[35  0  0]\n",
      " [ 1 47  1]\n",
      " [ 0  1 32]]\n",
      "Confusion Matrix of 10 K Fold is \n",
      " [[34  0  1]\n",
      " [ 1 48  0]\n",
      " [ 1  0 32]]\n"
     ]
    }
   ],
   "source": [
    "b=1\n",
    "for v in np.arange (0,10):\n",
    "    print(\"Confusion Matrix of\", b ,\"K Fold is\",'\\n',conf_matrix[v])\n",
    "    b+=1"
   ]
  },
  {
   "cell_type": "markdown",
   "id": "b7855659",
   "metadata": {},
   "source": [
    "# Dumping the model using Joblib for Api"
   ]
  },
  {
   "cell_type": "code",
   "execution_count": 40,
   "id": "d2903ba7",
   "metadata": {},
   "outputs": [
    {
     "data": {
      "text/plain": [
       "['teaching_assistance.pkl']"
      ]
     },
     "execution_count": 40,
     "metadata": {},
     "output_type": "execute_result"
    }
   ],
   "source": [
    "import joblib \n",
    "joblib.dump(final_model_forest,'teaching_assistance.pkl')"
   ]
  }
 ],
 "metadata": {
  "kernelspec": {
   "display_name": "Python 3 (ipykernel)",
   "language": "python",
   "name": "python3"
  },
  "language_info": {
   "codemirror_mode": {
    "name": "ipython",
    "version": 3
   },
   "file_extension": ".py",
   "mimetype": "text/x-python",
   "name": "python",
   "nbconvert_exporter": "python",
   "pygments_lexer": "ipython3",
   "version": "3.9.7"
  }
 },
 "nbformat": 4,
 "nbformat_minor": 5
}
