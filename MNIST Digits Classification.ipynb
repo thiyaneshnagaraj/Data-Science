{
 "cells": [
  {
   "cell_type": "markdown",
   "id": "ba6f5e20",
   "metadata": {},
   "source": [
    "# MNIST Hand written Digits Classification by Thiyaneshwaran Nagarajan"
   ]
  },
  {
   "cell_type": "markdown",
   "id": "a100924b",
   "metadata": {},
   "source": [
    "### The objective is to classify the images of digits from 0 to 9 using suitable classification Machine Learning Algorithm"
   ]
  },
  {
   "cell_type": "code",
   "execution_count": 1,
   "id": "a7a3b299",
   "metadata": {
    "scrolled": true
   },
   "outputs": [],
   "source": [
    "# Importing Libraries\n",
    "import numpy as np\n",
    "import pandas as pd\n",
    "import matplotlib.pyplot as plt\n",
    "import tensorflow as tf\n",
    "import keras\n",
    "from PIL import Image,ImageChops"
   ]
  },
  {
   "cell_type": "markdown",
   "id": "2d12b683",
   "metadata": {},
   "source": [
    "# Importing the data, Assigning train and test data"
   ]
  },
  {
   "cell_type": "code",
   "execution_count": 2,
   "id": "fd757b84",
   "metadata": {
    "scrolled": true
   },
   "outputs": [],
   "source": [
    "from tensorflow.keras.datasets import mnist\n",
    "(X_train, y_train), (X_test, y_test) = mnist.load_data()"
   ]
  },
  {
   "cell_type": "markdown",
   "id": "648d1b6a",
   "metadata": {},
   "source": [
    "### Shape of training set\n",
    "#### There are 60000 images of pixel 28 X 28. All the images are grey scale."
   ]
  },
  {
   "cell_type": "code",
   "execution_count": 3,
   "id": "6bc72373",
   "metadata": {
    "scrolled": true
   },
   "outputs": [
    {
     "data": {
      "text/plain": [
       "(60000, 28, 28)"
      ]
     },
     "execution_count": 3,
     "metadata": {},
     "output_type": "execute_result"
    }
   ],
   "source": [
    "X_train.shape"
   ]
  },
  {
   "cell_type": "markdown",
   "id": "8f899376",
   "metadata": {},
   "source": [
    "### Shape of testing set\n",
    "#### There are 10000 images of shape 28 x 28"
   ]
  },
  {
   "cell_type": "code",
   "execution_count": 4,
   "id": "f4672fa7",
   "metadata": {
    "scrolled": false
   },
   "outputs": [
    {
     "data": {
      "text/plain": [
       "(10000, 28, 28)"
      ]
     },
     "execution_count": 4,
     "metadata": {},
     "output_type": "execute_result"
    }
   ],
   "source": [
    "X_test.shape"
   ]
  },
  {
   "cell_type": "markdown",
   "id": "671f5c75",
   "metadata": {},
   "source": [
    "### The shape of target label i.e. y_train. \n",
    "#### For the 60000 images in the training set X . Each image belong to one of the integers from 0 to 9 in the y train set. \n",
    "#### The image with 0th index contains the integer 5. "
   ]
  },
  {
   "cell_type": "code",
   "execution_count": 5,
   "id": "22bb2629",
   "metadata": {
    "scrolled": true
   },
   "outputs": [
    {
     "name": "stdout",
     "output_type": "stream",
     "text": [
      "(60000,)\n"
     ]
    },
    {
     "data": {
      "text/plain": [
       "5"
      ]
     },
     "execution_count": 5,
     "metadata": {},
     "output_type": "execute_result"
    }
   ],
   "source": [
    "print(y_train.shape)\n",
    "y_train[0]"
   ]
  },
  {
   "cell_type": "code",
   "execution_count": 6,
   "id": "50e5421f",
   "metadata": {
    "scrolled": false
   },
   "outputs": [
    {
     "data": {
      "text/plain": [
       "<matplotlib.image.AxesImage at 0x1ff48ca1190>"
      ]
     },
     "execution_count": 6,
     "metadata": {},
     "output_type": "execute_result"
    },
    {
     "data": {
      "image/png": "[encoded data removed]",
      "text/plain": [
       "<Figure size 432x288 with 1 Axes>"
      ]
     },
     "metadata": {
      "needs_background": "light"
     },
     "output_type": "display_data"
    }
   ],
   "source": [
    "plt.imshow(X_train[0],cmap='gray')"
   ]
  },
  {
   "cell_type": "markdown",
   "id": "14ddd1e3",
   "metadata": {},
   "source": [
    "### Shape of the individual image\n",
    "#### Here the shape of the image does not carry information about batch size and gray scale value.\n",
    "#### So changing the shape of X_train and X_test."
   ]
  },
  {
   "cell_type": "code",
   "execution_count": 7,
   "id": "238a1f87",
   "metadata": {
    "scrolled": false
   },
   "outputs": [
    {
     "data": {
      "text/plain": [
       "(28, 28)"
      ]
     },
     "execution_count": 7,
     "metadata": {},
     "output_type": "execute_result"
    }
   ],
   "source": [
    "X_train[0].shape"
   ]
  },
  {
   "cell_type": "code",
   "execution_count": 8,
   "id": "83c6dd70",
   "metadata": {},
   "outputs": [],
   "source": [
    "X_train2 = X_train.reshape((X_train.shape[0], 28, 28, 1))\n",
    "X_test2 = X_test.reshape((X_test.shape[0], 28, 28, 1))"
   ]
  },
  {
   "cell_type": "code",
   "execution_count": 9,
   "id": "f8b83130",
   "metadata": {},
   "outputs": [
    {
     "data": {
      "text/plain": [
       "(60000, 28, 28, 1)"
      ]
     },
     "execution_count": 9,
     "metadata": {},
     "output_type": "execute_result"
    }
   ],
   "source": [
    "X_train2.shape"
   ]
  },
  {
   "cell_type": "markdown",
   "id": "0b2adfca",
   "metadata": {},
   "source": [
    "#### Now individual image contain information about the gray scale."
   ]
  },
  {
   "cell_type": "code",
   "execution_count": 10,
   "id": "3d6c71ad",
   "metadata": {},
   "outputs": [
    {
     "data": {
      "text/plain": [
       "(28, 28, 1)"
      ]
     },
     "execution_count": 10,
     "metadata": {},
     "output_type": "execute_result"
    }
   ],
   "source": [
    "X_train2[0].shape"
   ]
  },
  {
   "cell_type": "markdown",
   "id": "71c1dbd2",
   "metadata": {},
   "source": [
    "## Maximum Value in X_train data"
   ]
  },
  {
   "cell_type": "code",
   "execution_count": 11,
   "id": "a7e371d9",
   "metadata": {
    "scrolled": false
   },
   "outputs": [
    {
     "data": {
      "text/plain": [
       "255"
      ]
     },
     "execution_count": 11,
     "metadata": {},
     "output_type": "execute_result"
    }
   ],
   "source": [
    "X_train2.max()"
   ]
  },
  {
   "cell_type": "markdown",
   "id": "66d41191",
   "metadata": {},
   "source": [
    "## Minimum Value in X_train data"
   ]
  },
  {
   "cell_type": "code",
   "execution_count": 12,
   "id": "92769727",
   "metadata": {
    "scrolled": true
   },
   "outputs": [
    {
     "data": {
      "text/plain": [
       "0"
      ]
     },
     "execution_count": 12,
     "metadata": {},
     "output_type": "execute_result"
    }
   ],
   "source": [
    "X_train2.min()"
   ]
  },
  {
   "cell_type": "code",
   "execution_count": 13,
   "id": "8f282d7a",
   "metadata": {},
   "outputs": [],
   "source": [
    "X_train2 = X_train2.astype('float32')"
   ]
  },
  {
   "cell_type": "code",
   "execution_count": 14,
   "id": "afe4f5a3",
   "metadata": {},
   "outputs": [],
   "source": [
    "X_test2 = X_test2.astype('float32')"
   ]
  },
  {
   "cell_type": "markdown",
   "id": "aa0377d5",
   "metadata": {},
   "source": [
    "## Scaling the X_train and X_test data "
   ]
  },
  {
   "cell_type": "code",
   "execution_count": 15,
   "id": "734be824",
   "metadata": {
    "scrolled": true
   },
   "outputs": [],
   "source": [
    "# scaling\n",
    "X_train2 = X_train2/255 \n",
    "X_test2 = X_test2/255"
   ]
  },
  {
   "cell_type": "markdown",
   "id": "6b025167",
   "metadata": {},
   "source": [
    "## Checking whether the data in X_train and X_test are balanced or not."
   ]
  },
  {
   "cell_type": "code",
   "execution_count": 16,
   "id": "cbd9706c",
   "metadata": {
    "scrolled": true
   },
   "outputs": [
    {
     "data": {
      "text/plain": [
       "Counter({5: 5421,\n",
       "         0: 5923,\n",
       "         4: 5842,\n",
       "         1: 6742,\n",
       "         9: 5949,\n",
       "         2: 5958,\n",
       "         3: 6131,\n",
       "         6: 5918,\n",
       "         7: 6265,\n",
       "         8: 5851})"
      ]
     },
     "execution_count": 16,
     "metadata": {},
     "output_type": "execute_result"
    }
   ],
   "source": [
    "from collections import Counter\n",
    "Counter(y_train)"
   ]
  },
  {
   "cell_type": "code",
   "execution_count": 17,
   "id": "1a6be672",
   "metadata": {
    "scrolled": true
   },
   "outputs": [
    {
     "data": {
      "text/plain": [
       "Counter({7: 1028,\n",
       "         2: 1032,\n",
       "         1: 1135,\n",
       "         0: 980,\n",
       "         4: 982,\n",
       "         9: 1009,\n",
       "         5: 892,\n",
       "         6: 958,\n",
       "         3: 1010,\n",
       "         8: 974})"
      ]
     },
     "execution_count": 17,
     "metadata": {},
     "output_type": "execute_result"
    }
   ],
   "source": [
    "Counter(y_test)"
   ]
  },
  {
   "cell_type": "markdown",
   "id": "6f52c32a",
   "metadata": {},
   "source": [
    "#### The data counts in all the classes are almost balanced."
   ]
  },
  {
   "cell_type": "markdown",
   "id": "dd2ae71d",
   "metadata": {},
   "source": [
    "# One Hot Encoding of the y_train and y_test"
   ]
  },
  {
   "cell_type": "code",
   "execution_count": 18,
   "id": "bddf33a2",
   "metadata": {
    "scrolled": true
   },
   "outputs": [],
   "source": [
    "from tensorflow.keras.utils import to_categorical"
   ]
  },
  {
   "cell_type": "code",
   "execution_count": 19,
   "id": "3dd52c2a",
   "metadata": {},
   "outputs": [
    {
     "data": {
      "text/plain": [
       "(60000, 10)"
      ]
     },
     "execution_count": 19,
     "metadata": {},
     "output_type": "execute_result"
    }
   ],
   "source": [
    "y_categorical_train = to_categorical(y_train,10) #one hot encoder\n",
    "y_categorical_train.shape"
   ]
  },
  {
   "cell_type": "code",
   "execution_count": 20,
   "id": "d6672845",
   "metadata": {},
   "outputs": [
    {
     "data": {
      "text/plain": [
       "(10000, 10)"
      ]
     },
     "execution_count": 20,
     "metadata": {},
     "output_type": "execute_result"
    }
   ],
   "source": [
    "y_categorical_test = to_categorical(y_test,10)\n",
    "y_categorical_test.shape"
   ]
  },
  {
   "cell_type": "markdown",
   "id": "f6e9ae4c",
   "metadata": {},
   "source": [
    "# Modelling the Convolutional Neural Network for Image Classification"
   ]
  },
  {
   "cell_type": "code",
   "execution_count": 21,
   "id": "edcfd7ac",
   "metadata": {
    "scrolled": true
   },
   "outputs": [],
   "source": [
    "# Importing the model\n",
    "from keras.models import Sequential\n",
    "from keras.layers import Conv2D, MaxPool2D, Flatten, Dense"
   ]
  },
  {
   "cell_type": "code",
   "execution_count": 22,
   "id": "de5f810a",
   "metadata": {
    "scrolled": true
   },
   "outputs": [],
   "source": [
    "model = Sequential() # Defining the model\n",
    "\n",
    "#filter that is used to extract the features from the images\n",
    "\n",
    "## FIRST SET OF LAYERS\n",
    "\n",
    "# CONVOLUTIONAL LAYER\n",
    "model.add(Conv2D(filters=32, kernel_size=(3,3),input_shape=(28, 28,1), activation='relu',))\n",
    "# POOLING LAYER, \n",
    "model.add(MaxPool2D(pool_size=(2, 2)))\n",
    "\n",
    "## SECOND SET OF LAYERS\n",
    "\n",
    "# CONVOLUTIONAL LAYER\n",
    "model.add(Conv2D(filters=32, kernel_size=(3,3),input_shape=(28, 28,1)))#, activation='relu',))\n",
    "# POOLING LAYER\n",
    "model.add(MaxPool2D(pool_size=(2, 2)))\n",
    "\n",
    "# FLATTEN IMAGES\n",
    "model.add(Flatten())\n",
    "\n",
    "# First Hidden Layer\n",
    "# 300 NEURONS IN DENSE HIDDEN LAYER \n",
    "model.add(Dense(300, activation='relu')) # ReLU piecewise linear function \n",
    "#that will output the input directly if it is positive, otherwise, it will output zero\n",
    "\n",
    "# Second Hidden Layer\n",
    "model.add(Dense(200, activation='relu'))\n",
    "\n",
    "# LAST LAYER IS THE CLASSIFIER, THUS 10 POSSIBLE CLASSES\n",
    "model.add(Dense(10, activation='softmax'))\n",
    "\n",
    "\n",
    "model.compile(loss='categorical_crossentropy',\n",
    "              optimizer='rmsprop',\n",
    "              metrics=['accuracy'])#Categorical crossentropy between an output tensor and a target tensor, \n",
    "#RMSprop is a gradient based optimization technique used in training neural networks,Gradient descent is an optimization algorithm\n"
   ]
  },
  {
   "cell_type": "code",
   "execution_count": 23,
   "id": "3402d8dd",
   "metadata": {
    "scrolled": false
   },
   "outputs": [
    {
     "name": "stdout",
     "output_type": "stream",
     "text": [
      "Model: \"sequential\"\n",
      "_________________________________________________________________\n",
      " Layer (type)                Output Shape              Param #   \n",
      "=================================================================\n",
      " conv2d (Conv2D)             (None, 26, 26, 32)        320       \n",
      "                                                                 \n",
      " max_pooling2d (MaxPooling2D  (None, 13, 13, 32)       0         \n",
      " )                                                               \n",
      "                                                                 \n",
      " conv2d_1 (Conv2D)           (None, 11, 11, 32)        9248      \n",
      "                                                                 \n",
      " max_pooling2d_1 (MaxPooling  (None, 5, 5, 32)         0         \n",
      " 2D)                                                             \n",
      "                                                                 \n",
      " flatten (Flatten)           (None, 800)               0         \n",
      "                                                                 \n",
      " dense (Dense)               (None, 300)               240300    \n",
      "                                                                 \n",
      " dense_1 (Dense)             (None, 200)               60200     \n",
      "                                                                 \n",
      " dense_2 (Dense)             (None, 10)                2010      \n",
      "                                                                 \n",
      "=================================================================\n",
      "Total params: 312,078\n",
      "Trainable params: 312,078\n",
      "Non-trainable params: 0\n",
      "_________________________________________________________________\n"
     ]
    }
   ],
   "source": [
    "model.summary()"
   ]
  },
  {
   "cell_type": "markdown",
   "id": "94bcee2e",
   "metadata": {},
   "source": [
    "# Fitting the CNN model to the X_train and one hot encoded y_categorical_train"
   ]
  },
  {
   "cell_type": "code",
   "execution_count": 24,
   "id": "88c7d3f5",
   "metadata": {
    "scrolled": false
   },
   "outputs": [
    {
     "name": "stdout",
     "output_type": "stream",
     "text": [
      "Epoch 1/5\n",
      "1875/1875 [==============================] - 32s 13ms/step - loss: 0.1200 - accuracy: 0.9630\n",
      "Epoch 2/5\n",
      "1875/1875 [==============================] - 23s 12ms/step - loss: 0.0436 - accuracy: 0.9876\n",
      "Epoch 3/5\n",
      "1875/1875 [==============================] - 19s 10ms/step - loss: 0.0314 - accuracy: 0.9913\n",
      "Epoch 4/5\n",
      "1875/1875 [==============================] - 16s 9ms/step - loss: 0.0259 - accuracy: 0.9929\n",
      "Epoch 5/5\n",
      "1875/1875 [==============================] - 16s 8ms/step - loss: 0.0222 - accuracy: 0.9945\n"
     ]
    },
    {
     "data": {
      "text/plain": [
       "<keras.callbacks.History at 0x1ff51394bb0>"
      ]
     },
     "execution_count": 24,
     "metadata": {},
     "output_type": "execute_result"
    }
   ],
   "source": [
    "model.fit(X_train2,y_categorical_train,verbose=1,epochs=5)"
   ]
  },
  {
   "cell_type": "code",
   "execution_count": 25,
   "id": "420f5dad",
   "metadata": {
    "scrolled": true
   },
   "outputs": [],
   "source": [
    "model.save('MNIST_2epochs.h5') # Hierarchial data format"
   ]
  },
  {
   "cell_type": "markdown",
   "id": "41c7cb43",
   "metadata": {},
   "source": [
    "### Loss and Accuracy Score"
   ]
  },
  {
   "cell_type": "code",
   "execution_count": 26,
   "id": "e94298a5",
   "metadata": {
    "scrolled": true
   },
   "outputs": [
    {
     "data": {
      "text/plain": [
       "['loss', 'accuracy']"
      ]
     },
     "execution_count": 26,
     "metadata": {},
     "output_type": "execute_result"
    }
   ],
   "source": [
    "model.metrics_names"
   ]
  },
  {
   "cell_type": "code",
   "execution_count": 27,
   "id": "114ac551",
   "metadata": {
    "scrolled": false
   },
   "outputs": [
    {
     "name": "stdout",
     "output_type": "stream",
     "text": [
      "313/313 [==============================] - 2s 5ms/step - loss: 0.0572 - accuracy: 0.9890\n"
     ]
    },
    {
     "data": {
      "text/plain": [
       "[0.05717545747756958, 0.9890000224113464]"
      ]
     },
     "execution_count": 27,
     "metadata": {},
     "output_type": "execute_result"
    }
   ],
   "source": [
    "model.evaluate(X_test2,y_categorical_test)"
   ]
  },
  {
   "cell_type": "markdown",
   "id": "7a60c6ee",
   "metadata": {},
   "source": [
    "### The accuracy score of the test data is 0.9882"
   ]
  },
  {
   "cell_type": "markdown",
   "id": "99888255",
   "metadata": {},
   "source": [
    "# Predicting with X-test "
   ]
  },
  {
   "cell_type": "code",
   "execution_count": 28,
   "id": "20713fe5",
   "metadata": {
    "scrolled": true
   },
   "outputs": [
    {
     "data": {
      "text/plain": [
       "array([[3.0267201e-14, 2.9353853e-09, 2.2240438e-09, ..., 1.0000000e+00,\n",
       "        4.5190696e-12, 1.4853410e-09],\n",
       "       [4.2479815e-18, 2.0710850e-16, 1.0000000e+00, ..., 7.9957306e-21,\n",
       "        9.7072831e-23, 1.1417397e-30],\n",
       "       [1.2075956e-10, 9.9999952e-01, 1.3927776e-08, ..., 1.7348836e-07,\n",
       "        3.8471506e-09, 3.0080340e-09],\n",
       "       ...,\n",
       "       [1.3656479e-25, 2.5457962e-17, 3.4449346e-21, ..., 1.0798883e-17,\n",
       "        4.3169254e-15, 4.0143464e-13],\n",
       "       [6.7334725e-19, 1.7315348e-21, 7.0239898e-26, ..., 2.5878844e-21,\n",
       "        5.3769607e-11, 1.5689297e-15],\n",
       "       [3.8938412e-11, 2.8323096e-14, 8.9938831e-15, ..., 5.7372284e-20,\n",
       "        8.0657789e-13, 9.1921108e-15]], dtype=float32)"
      ]
     },
     "execution_count": 28,
     "metadata": {},
     "output_type": "execute_result"
    }
   ],
   "source": [
    "from sklearn.metrics import classification_report\n",
    "\n",
    "prediction = model.predict(X_test2)\n",
    "prediction"
   ]
  },
  {
   "cell_type": "markdown",
   "id": "c46b3a05",
   "metadata": {},
   "source": [
    "## Getting the class of each image in X_test. Here it is in one hot encoded format."
   ]
  },
  {
   "cell_type": "code",
   "execution_count": 29,
   "id": "975f9ee7",
   "metadata": {
    "scrolled": true
   },
   "outputs": [
    {
     "name": "stdout",
     "output_type": "stream",
     "text": [
      "[[0 0 0 ... 1 0 0]\n",
      " [0 0 1 ... 0 0 0]\n",
      " [0 1 0 ... 0 0 0]\n",
      " ...\n",
      " [0 0 0 ... 0 0 0]\n",
      " [0 0 0 ... 0 0 0]\n",
      " [0 0 0 ... 0 0 0]]\n"
     ]
    },
    {
     "data": {
      "text/plain": [
       "array([0, 0, 0, 0, 0, 0, 0, 1, 0, 0])"
      ]
     },
     "execution_count": 29,
     "metadata": {},
     "output_type": "execute_result"
    }
   ],
   "source": [
    "predictions = (model.predict(X_test2) > 0.5).astype(int)  \n",
    "print(predictions)\n",
    "predictions[0]"
   ]
  },
  {
   "cell_type": "markdown",
   "id": "acc95850",
   "metadata": {},
   "source": [
    "## Now changing from one hot encoded format to 0 to 9 integer format"
   ]
  },
  {
   "cell_type": "code",
   "execution_count": 30,
   "id": "66c6736c",
   "metadata": {},
   "outputs": [
    {
     "name": "stdout",
     "output_type": "stream",
     "text": [
      "(10000,)\n"
     ]
    },
    {
     "data": {
      "text/plain": [
       "array([7, 2, 1, ..., 4, 5, 6], dtype=int64)"
      ]
     },
     "execution_count": 30,
     "metadata": {},
     "output_type": "execute_result"
    }
   ],
   "source": [
    "classes_X=np.argmax(prediction,axis=1)\n",
    "print(classes_X.shape)\n",
    "classes_X"
   ]
  },
  {
   "cell_type": "markdown",
   "id": "511fd3e9",
   "metadata": {},
   "source": [
    "## Actual classes in the y_test"
   ]
  },
  {
   "cell_type": "code",
   "execution_count": 31,
   "id": "8021d0f2",
   "metadata": {},
   "outputs": [
    {
     "data": {
      "text/plain": [
       "array([7, 2, 1, ..., 4, 5, 6], dtype=uint8)"
      ]
     },
     "execution_count": 31,
     "metadata": {},
     "output_type": "execute_result"
    }
   ],
   "source": [
    "y_test"
   ]
  },
  {
   "cell_type": "markdown",
   "id": "693df075",
   "metadata": {},
   "source": [
    "# Classification Report"
   ]
  },
  {
   "cell_type": "code",
   "execution_count": 32,
   "id": "1a22bd6b",
   "metadata": {
    "scrolled": true
   },
   "outputs": [
    {
     "name": "stdout",
     "output_type": "stream",
     "text": [
      "              precision    recall  f1-score   support\n",
      "\n",
      "           0       0.99      1.00      0.99       980\n",
      "           1       0.99      1.00      1.00      1135\n",
      "           2       0.98      0.99      0.99      1032\n",
      "           3       0.99      1.00      0.99      1010\n",
      "           4       0.99      0.99      0.99       982\n",
      "           5       0.98      0.99      0.99       892\n",
      "           6       0.99      0.99      0.99       958\n",
      "           7       0.99      0.98      0.99      1028\n",
      "           8       1.00      0.98      0.99       974\n",
      "           9       0.99      0.98      0.98      1009\n",
      "\n",
      "   micro avg       0.99      0.99      0.99     10000\n",
      "   macro avg       0.99      0.99      0.99     10000\n",
      "weighted avg       0.99      0.99      0.99     10000\n",
      " samples avg       0.99      0.99      0.99     10000\n",
      "\n"
     ]
    },
    {
     "name": "stderr",
     "output_type": "stream",
     "text": [
      "C:\\Users\\ASUS\\anaconda3\\lib\\site-packages\\sklearn\\metrics\\_classification.py:1248: UndefinedMetricWarning: Precision and F-score are ill-defined and being set to 0.0 in samples with no predicted labels. Use `zero_division` parameter to control this behavior.\n",
      "  _warn_prf(average, modifier, msg_start, len(result))\n"
     ]
    }
   ],
   "source": [
    "print(classification_report(y_categorical_test,predictions))"
   ]
  },
  {
   "cell_type": "markdown",
   "id": "f54f5c8c",
   "metadata": {},
   "source": [
    "# Predicting for single image. Here for the image in 1st index of the X_test"
   ]
  },
  {
   "cell_type": "markdown",
   "id": "b12c0257",
   "metadata": {},
   "source": [
    "### Image in 1st index of the X_test"
   ]
  },
  {
   "cell_type": "code",
   "execution_count": 33,
   "id": "726c7905",
   "metadata": {
    "scrolled": true
   },
   "outputs": [
    {
     "data": {
      "text/plain": [
       "<matplotlib.image.AxesImage at 0x1fff2292340>"
      ]
     },
     "execution_count": 33,
     "metadata": {},
     "output_type": "execute_result"
    },
    {
     "data": {
      "image/png": "[encoded data removed]",
      "text/plain": [
       "<Figure size 432x288 with 1 Axes>"
      ]
     },
     "metadata": {
      "needs_background": "light"
     },
     "output_type": "display_data"
    }
   ],
   "source": [
    "plt.imshow(X_test2[1],cmap='gray') "
   ]
  },
  {
   "cell_type": "markdown",
   "id": "e1f22c6c",
   "metadata": {},
   "source": [
    "### Predicting using the model"
   ]
  },
  {
   "cell_type": "code",
   "execution_count": 34,
   "id": "6c3905bb",
   "metadata": {
    "scrolled": false
   },
   "outputs": [
    {
     "name": "stdout",
     "output_type": "stream",
     "text": [
      "[[0 0 1 0 0 0 0 0 0 0]]\n"
     ]
    },
    {
     "data": {
      "text/plain": [
       "array([2], dtype=int64)"
      ]
     },
     "execution_count": 34,
     "metadata": {},
     "output_type": "execute_result"
    }
   ],
   "source": [
    "new = (model.predict(X_test2[[1]]) > 0.5).astype(int)\n",
    "print(new)\n",
    "class_out = np.argmax(new, axis=1)\n",
    "class_out"
   ]
  },
  {
   "cell_type": "markdown",
   "id": "8418736f",
   "metadata": {},
   "source": [
    "#### The class output says the image contains the interger 2"
   ]
  },
  {
   "cell_type": "markdown",
   "id": "f8074b6c",
   "metadata": {},
   "source": [
    "# K Fold Cross Validation"
   ]
  },
  {
   "cell_type": "markdown",
   "id": "31b2552a",
   "metadata": {},
   "source": [
    "### Choosing the images and its class"
   ]
  },
  {
   "cell_type": "code",
   "execution_count": 35,
   "id": "3619551d",
   "metadata": {},
   "outputs": [],
   "source": [
    "X_Kfold = np.concatenate((X_train2, X_test2), axis=0)\n",
    "y_Kfold= np.concatenate((y_categorical_train, y_categorical_test), axis=0)"
   ]
  },
  {
   "cell_type": "markdown",
   "id": "b586a3ed",
   "metadata": {},
   "source": [
    "### Import Stratified K field and create Kfold object"
   ]
  },
  {
   "cell_type": "code",
   "execution_count": 36,
   "id": "ce6f9b03",
   "metadata": {},
   "outputs": [],
   "source": [
    "from sklearn.model_selection import StratifiedKFold\n",
    "skfold = StratifiedKFold(n_splits=10, shuffle=True)"
   ]
  },
  {
   "cell_type": "markdown",
   "id": "fcb486c2",
   "metadata": {},
   "source": [
    "### Create CNN model with 10 folds and save the model after fitting with the image data"
   ]
  },
  {
   "cell_type": "code",
   "execution_count": 37,
   "id": "b7813525",
   "metadata": {
    "scrolled": true
   },
   "outputs": [
    {
     "name": "stdout",
     "output_type": "stream",
     "text": [
      "Kfold iteration number:  1 , Fitting the training set...\n",
      "Epoch 1/7\n",
      "1969/1969 [==============================] - 19s 9ms/step - loss: 0.1162 - accuracy: 0.9633\n",
      "Epoch 2/7\n",
      "1969/1969 [==============================] - 19s 9ms/step - loss: 0.0417 - accuracy: 0.9870\n",
      "Epoch 3/7\n",
      "1969/1969 [==============================] - 17s 9ms/step - loss: 0.0315 - accuracy: 0.9909\n",
      "Epoch 4/7\n",
      "1969/1969 [==============================] - 18s 9ms/step - loss: 0.0253 - accuracy: 0.9931\n",
      "Epoch 5/7\n",
      "1969/1969 [==============================] - 18s 9ms/step - loss: 0.0203 - accuracy: 0.9946\n",
      "Epoch 6/7\n",
      "1969/1969 [==============================] - 19s 10ms/step - loss: 0.0185 - accuracy: 0.9955\n",
      "Epoch 7/7\n",
      "1969/1969 [==============================] - 16s 8ms/step - loss: 0.0153 - accuracy: 0.9961\n",
      "\n",
      "\n",
      "Kfold iteration number:  1 , Evaluating accuracy score for Validation set\n",
      "219/219 [==============================] - 1s 4ms/step - loss: 0.0581 - accuracy: 0.9891\n",
      "\n",
      "\n",
      "Kfold iteration number:  2 , Fitting the training set...\n",
      "Epoch 1/7\n",
      "1969/1969 [==============================] - 17s 8ms/step - loss: 0.1203 - accuracy: 0.9632\n",
      "Epoch 2/7\n",
      "1969/1969 [==============================] - 18s 9ms/step - loss: 0.0423 - accuracy: 0.9876\n",
      "Epoch 3/7\n",
      "1969/1969 [==============================] - 16s 8ms/step - loss: 0.0312 - accuracy: 0.9910\n",
      "Epoch 4/7\n",
      "1969/1969 [==============================] - 16s 8ms/step - loss: 0.0253 - accuracy: 0.9930\n",
      "Epoch 5/7\n",
      "1969/1969 [==============================] - 19s 10ms/step - loss: 0.0210 - accuracy: 0.9944\n",
      "Epoch 6/7\n",
      "1969/1969 [==============================] - 17s 9ms/step - loss: 0.0184 - accuracy: 0.9951\n",
      "Epoch 7/7\n",
      "1969/1969 [==============================] - 16s 8ms/step - loss: 0.0147 - accuracy: 0.9963\n",
      "\n",
      "\n",
      "Kfold iteration number:  2 , Evaluating accuracy score for Validation set\n",
      "219/219 [==============================] - 1s 4ms/step - loss: 0.0807 - accuracy: 0.9890\n",
      "\n",
      "\n",
      "Kfold iteration number:  3 , Fitting the training set...\n",
      "Epoch 1/7\n",
      "1969/1969 [==============================] - 17s 8ms/step - loss: 0.1166 - accuracy: 0.9639\n",
      "Epoch 2/7\n",
      "1969/1969 [==============================] - 16s 8ms/step - loss: 0.0441 - accuracy: 0.9872\n",
      "Epoch 3/7\n",
      "1969/1969 [==============================] - 16s 8ms/step - loss: 0.0306 - accuracy: 0.9910\n",
      "Epoch 4/7\n",
      "1969/1969 [==============================] - 17s 8ms/step - loss: 0.0236 - accuracy: 0.9938\n",
      "Epoch 5/7\n",
      "1969/1969 [==============================] - 16s 8ms/step - loss: 0.0203 - accuracy: 0.9946\n",
      "Epoch 6/7\n",
      "1969/1969 [==============================] - 18s 9ms/step - loss: 0.0165 - accuracy: 0.9956\n",
      "Epoch 7/7\n",
      "1969/1969 [==============================] - 16s 8ms/step - loss: 0.0145 - accuracy: 0.9965\n",
      "\n",
      "\n",
      "Kfold iteration number:  3 , Evaluating accuracy score for Validation set\n",
      "219/219 [==============================] - 1s 4ms/step - loss: 0.0841 - accuracy: 0.9883\n",
      "\n",
      "\n",
      "Kfold iteration number:  4 , Fitting the training set...\n",
      "Epoch 1/7\n",
      "1969/1969 [==============================] - 17s 8ms/step - loss: 0.1155 - accuracy: 0.9642\n",
      "Epoch 2/7\n",
      "1969/1969 [==============================] - 17s 8ms/step - loss: 0.0434 - accuracy: 0.9878\n",
      "Epoch 3/7\n",
      "1969/1969 [==============================] - 17s 9ms/step - loss: 0.0327 - accuracy: 0.9907\n",
      "Epoch 4/7\n",
      "1969/1969 [==============================] - 17s 9ms/step - loss: 0.0250 - accuracy: 0.9933\n",
      "Epoch 5/7\n",
      "1969/1969 [==============================] - 17s 8ms/step - loss: 0.0204 - accuracy: 0.9947\n",
      "Epoch 6/7\n",
      "1969/1969 [==============================] - 16s 8ms/step - loss: 0.0185 - accuracy: 0.9955\n",
      "Epoch 7/7\n",
      "1969/1969 [==============================] - 16s 8ms/step - loss: 0.0163 - accuracy: 0.9960\n",
      "\n",
      "\n",
      "Kfold iteration number:  4 , Evaluating accuracy score for Validation set\n",
      "219/219 [==============================] - 1s 4ms/step - loss: 0.0650 - accuracy: 0.9889\n",
      "\n",
      "\n",
      "Kfold iteration number:  5 , Fitting the training set...\n",
      "Epoch 1/7\n",
      "1969/1969 [==============================] - 17s 8ms/step - loss: 0.1165 - accuracy: 0.9637\n",
      "Epoch 2/7\n",
      "1969/1969 [==============================] - 16s 8ms/step - loss: 0.0440 - accuracy: 0.9869\n",
      "Epoch 3/7\n",
      "1969/1969 [==============================] - 16s 8ms/step - loss: 0.0326 - accuracy: 0.9908\n",
      "Epoch 4/7\n",
      "1969/1969 [==============================] - 17s 8ms/step - loss: 0.0265 - accuracy: 0.9926\n",
      "Epoch 5/7\n",
      "1969/1969 [==============================] - 16s 8ms/step - loss: 0.0212 - accuracy: 0.9942\n",
      "Epoch 6/7\n",
      "1969/1969 [==============================] - 16s 8ms/step - loss: 0.0187 - accuracy: 0.9950\n",
      "Epoch 7/7\n",
      "1969/1969 [==============================] - 16s 8ms/step - loss: 0.0156 - accuracy: 0.9962\n",
      "\n",
      "\n",
      "Kfold iteration number:  5 , Evaluating accuracy score for Validation set\n",
      "219/219 [==============================] - 1s 4ms/step - loss: 0.0688 - accuracy: 0.9916\n",
      "\n",
      "\n",
      "Kfold iteration number:  6 , Fitting the training set...\n",
      "Epoch 1/7\n",
      "1969/1969 [==============================] - 16s 8ms/step - loss: 0.1214 - accuracy: 0.9629\n",
      "Epoch 2/7\n",
      "1969/1969 [==============================] - 16s 8ms/step - loss: 0.0434 - accuracy: 0.9872\n",
      "Epoch 3/7\n",
      "1969/1969 [==============================] - 17s 8ms/step - loss: 0.0317 - accuracy: 0.9910\n",
      "Epoch 4/7\n",
      "1969/1969 [==============================] - 16s 8ms/step - loss: 0.0255 - accuracy: 0.9933\n",
      "Epoch 5/7\n",
      "1969/1969 [==============================] - 20s 10ms/step - loss: 0.0205 - accuracy: 0.9947\n",
      "Epoch 6/7\n",
      "1969/1969 [==============================] - 16s 8ms/step - loss: 0.0179 - accuracy: 0.9954\n",
      "Epoch 7/7\n",
      "1969/1969 [==============================] - 16s 8ms/step - loss: 0.0164 - accuracy: 0.9963\n",
      "\n",
      "\n",
      "Kfold iteration number:  6 , Evaluating accuracy score for Validation set\n",
      "219/219 [==============================] - 1s 4ms/step - loss: 0.0635 - accuracy: 0.9900\n",
      "\n",
      "\n",
      "Kfold iteration number:  7 , Fitting the training set...\n",
      "Epoch 1/7\n",
      "1969/1969 [==============================] - 16s 8ms/step - loss: 0.1141 - accuracy: 0.9643\n",
      "Epoch 2/7\n",
      "1969/1969 [==============================] - 15s 8ms/step - loss: 0.0426 - accuracy: 0.9874\n",
      "Epoch 3/7\n",
      "1969/1969 [==============================] - 15s 8ms/step - loss: 0.0324 - accuracy: 0.9912\n",
      "Epoch 4/7\n",
      "1969/1969 [==============================] - 15s 8ms/step - loss: 0.0255 - accuracy: 0.9931\n",
      "Epoch 5/7\n",
      "1969/1969 [==============================] - 16s 8ms/step - loss: 0.0206 - accuracy: 0.9947\n",
      "Epoch 6/7\n",
      "1969/1969 [==============================] - 17s 9ms/step - loss: 0.0170 - accuracy: 0.9956\n",
      "Epoch 7/7\n",
      "1969/1969 [==============================] - 28s 14ms/step - loss: 0.0158 - accuracy: 0.9962\n",
      "\n",
      "\n",
      "Kfold iteration number:  7 , Evaluating accuracy score for Validation set\n",
      "219/219 [==============================] - 2s 8ms/step - loss: 0.0632 - accuracy: 0.9886\n",
      "\n",
      "\n",
      "Kfold iteration number:  8 , Fitting the training set...\n",
      "Epoch 1/7\n",
      "1969/1969 [==============================] - 17s 9ms/step - loss: 0.1194 - accuracy: 0.9633\n",
      "Epoch 2/7\n",
      "1969/1969 [==============================] - 16s 8ms/step - loss: 0.0433 - accuracy: 0.9876\n",
      "Epoch 3/7\n",
      "1969/1969 [==============================] - 17s 8ms/step - loss: 0.0316 - accuracy: 0.9912\n",
      "Epoch 4/7\n",
      "1969/1969 [==============================] - 17s 8ms/step - loss: 0.0259 - accuracy: 0.9929\n",
      "Epoch 5/7\n",
      "1969/1969 [==============================] - 18s 9ms/step - loss: 0.0206 - accuracy: 0.9945\n",
      "Epoch 6/7\n",
      "1969/1969 [==============================] - 16s 8ms/step - loss: 0.0162 - accuracy: 0.9960\n",
      "Epoch 7/7\n",
      "1969/1969 [==============================] - 16s 8ms/step - loss: 0.0144 - accuracy: 0.9965\n",
      "\n",
      "\n",
      "Kfold iteration number:  8 , Evaluating accuracy score for Validation set\n",
      "219/219 [==============================] - 1s 3ms/step - loss: 0.0720 - accuracy: 0.9894\n",
      "\n",
      "\n",
      "Kfold iteration number:  9 , Fitting the training set...\n",
      "Epoch 1/7\n",
      "1969/1969 [==============================] - 14s 7ms/step - loss: 0.1236 - accuracy: 0.9615\n",
      "Epoch 2/7\n",
      "1969/1969 [==============================] - 14s 7ms/step - loss: 0.0449 - accuracy: 0.9865\n",
      "Epoch 3/7\n",
      "1969/1969 [==============================] - 15s 8ms/step - loss: 0.0332 - accuracy: 0.9906\n",
      "Epoch 4/7\n",
      "1969/1969 [==============================] - 14s 7ms/step - loss: 0.0257 - accuracy: 0.9933\n",
      "Epoch 5/7\n",
      "1969/1969 [==============================] - 16s 8ms/step - loss: 0.0218 - accuracy: 0.9943\n",
      "Epoch 6/7\n",
      "1969/1969 [==============================] - 14s 7ms/step - loss: 0.0190 - accuracy: 0.9952\n",
      "Epoch 7/7\n",
      "1969/1969 [==============================] - 15s 8ms/step - loss: 0.0152 - accuracy: 0.9962\n",
      "\n",
      "\n",
      "Kfold iteration number:  9 , Evaluating accuracy score for Validation set\n",
      "219/219 [==============================] - 1s 4ms/step - loss: 0.0672 - accuracy: 0.9891\n",
      "\n",
      "\n",
      "Kfold iteration number:  10 , Fitting the training set...\n",
      "Epoch 1/7\n",
      "1969/1969 [==============================] - 15s 7ms/step - loss: 0.1154 - accuracy: 0.9636\n",
      "Epoch 2/7\n",
      "1969/1969 [==============================] - 15s 8ms/step - loss: 0.0433 - accuracy: 0.9875\n",
      "Epoch 3/7\n",
      "1969/1969 [==============================] - 15s 7ms/step - loss: 0.0322 - accuracy: 0.9908\n",
      "Epoch 4/7\n",
      "1969/1969 [==============================] - 13s 7ms/step - loss: 0.0243 - accuracy: 0.9932\n",
      "Epoch 5/7\n",
      "1969/1969 [==============================] - 13s 7ms/step - loss: 0.0206 - accuracy: 0.9946\n",
      "Epoch 6/7\n",
      "1969/1969 [==============================] - 15s 8ms/step - loss: 0.0171 - accuracy: 0.9956\n",
      "Epoch 7/7\n",
      "1969/1969 [==============================] - 15s 8ms/step - loss: 0.0155 - accuracy: 0.9960\n",
      "\n",
      "\n",
      "Kfold iteration number:  10 , Evaluating accuracy score for Validation set\n",
      "219/219 [==============================] - 1s 3ms/step - loss: 0.0637 - accuracy: 0.9893\n",
      "\n",
      "\n"
     ]
    }
   ],
   "source": [
    "Kfold_iter_no = 1\n",
    "Kfold_accuracy=[]\n",
    "for train_index, test_index in skfold.split(X_Kfold,y_Kfold.argmax(1)):\n",
    "    model_Kfold = Sequential()\n",
    "\n",
    "## FIRST SET OF LAYERS\n",
    "\n",
    "# CONVOLUTIONAL LAYER\n",
    "    model_Kfold.add(Conv2D(filters=32, kernel_size=(3,3),input_shape=(28, 28,1), activation='relu',))\n",
    "# POOLING LAYER, \n",
    "    model_Kfold.add(MaxPool2D(pool_size=(2, 2)))\n",
    "\n",
    "## SECOND SET OF LAYERS\n",
    "\n",
    "# CONVOLUTIONAL LAYER\n",
    "    model_Kfold.add(Conv2D(filters=32, kernel_size=(3,3),input_shape=(28, 28,1)))#, activation='relu',))\n",
    "# POOLING LAYER\n",
    "    model_Kfold.add(MaxPool2D(pool_size=(2, 2)))\n",
    "\n",
    "# FLATTEN IMAGES \n",
    "    model_Kfold.add(Flatten())\n",
    "\n",
    "# First Hidden Layer\n",
    "# 300 NEURONS IN DENSE HIDDEN LAYER \n",
    "    model_Kfold.add(Dense(300, activation='relu')) # ReLU piecewise linear function \n",
    "#that will output the input directly if it is positive, otherwise, it will output zero\n",
    "\n",
    "# Second Hidden Layer\n",
    "    model_Kfold.add(Dense(200, activation='relu'))\n",
    "\n",
    "# LAST LAYER IS THE CLASSIFIER, THUS 10 POSSIBLE CLASSES\n",
    "    model_Kfold.add(Dense(10, activation='softmax'))\n",
    "\n",
    "\n",
    "    model_Kfold.compile(loss='categorical_crossentropy',\n",
    "              optimizer='rmsprop',\n",
    "              metrics=['accuracy'])\n",
    "    print(\"Kfold iteration number: \",Kfold_iter_no,',',\"Fitting the training set...\")\n",
    "    model_Kfold.fit(X_Kfold[train_index],y_Kfold[train_index],verbose=1,epochs=7)\n",
    "    print(\"\\n\")\n",
    "    print (\"Kfold iteration number: \",Kfold_iter_no,',',\"Evaluating accuracy score for Validation set\")\n",
    "    score=model_Kfold.evaluate(X_Kfold[test_index],y_Kfold[test_index])\n",
    "    Kfold_accuracy.append(score[1])\n",
    "    print(\"\\n\")\n",
    "    model_name = f'./models/MNIST-KFOLD-Iter {Kfold_iter_no}.h5'\n",
    "    model.save(model_name)\n",
    "    Kfold_iter_no+=1"
   ]
  },
  {
   "cell_type": "markdown",
   "id": "7ff31c99",
   "metadata": {},
   "source": [
    "### Accuracy scores of the validation folds"
   ]
  },
  {
   "cell_type": "code",
   "execution_count": 38,
   "id": "108854e4",
   "metadata": {
    "scrolled": false
   },
   "outputs": [
    {
     "name": "stdout",
     "output_type": "stream",
     "text": [
      "Accuracies of the 10 validation folds \n",
      " [0.9891428351402283, 0.9890000224113464, 0.9882857203483582, 0.9888571500778198, 0.9915714263916016, 0.9900000095367432, 0.9885714054107666, 0.9894285798072815, 0.9891428351402283, 0.9892857074737549]\n",
      "\n",
      "\n",
      "Avearge accuracy of the 10 validation folds:  0.9893285691738128\n"
     ]
    }
   ],
   "source": [
    "print(\"Accuracies of the 10 validation folds \\n\",Kfold_accuracy)\n",
    "Kfold_avg_accuracy=np.array(Kfold_accuracy).mean()\n",
    "print(\"\\n\")\n",
    "print (\"Avearge accuracy of the 10 validation folds: \", Kfold_avg_accuracy)"
   ]
  },
  {
   "cell_type": "markdown",
   "id": "8cd9373e",
   "metadata": {},
   "source": [
    "### Creating a list of model hdf file names and loading the model"
   ]
  },
  {
   "cell_type": "code",
   "execution_count": 40,
   "id": "d1744e5b",
   "metadata": {
    "scrolled": true
   },
   "outputs": [],
   "source": [
    "import os\n",
    "model_hdf_files = os.listdir('./models/') # Creates a list with the model names\n",
    "MNIST_Kfold_models=[] # Loading the object into this list\n",
    "for model_file in model_hdf_files:\n",
    "    MNIST_Kfold_models.append(tf.keras.models.load_model(f'./models/{model_file}', compile=True))"
   ]
  },
  {
   "cell_type": "code",
   "execution_count": 41,
   "id": "007ca394",
   "metadata": {},
   "outputs": [
    {
     "data": {
      "text/plain": [
       "['MNIST-KFOLD-Iter 1.h5',\n",
       " 'MNIST-KFOLD-Iter 10.h5',\n",
       " 'MNIST-KFOLD-Iter 2.h5',\n",
       " 'MNIST-KFOLD-Iter 3.h5',\n",
       " 'MNIST-KFOLD-Iter 4.h5',\n",
       " 'MNIST-KFOLD-Iter 5.h5',\n",
       " 'MNIST-KFOLD-Iter 6.h5',\n",
       " 'MNIST-KFOLD-Iter 7.h5',\n",
       " 'MNIST-KFOLD-Iter 8.h5',\n",
       " 'MNIST-KFOLD-Iter 9.h5']"
      ]
     },
     "execution_count": 41,
     "metadata": {},
     "output_type": "execute_result"
    }
   ],
   "source": [
    "model_hdf_files"
   ]
  },
  {
   "cell_type": "markdown",
   "id": "a0c5f595",
   "metadata": {},
   "source": [
    "### List of 10 fold CNN models"
   ]
  },
  {
   "cell_type": "code",
   "execution_count": 42,
   "id": "45753113",
   "metadata": {
    "scrolled": true
   },
   "outputs": [
    {
     "data": {
      "text/plain": [
       "[<keras.engine.sequential.Sequential at 0x1ff34008e80>,\n",
       " <keras.engine.sequential.Sequential at 0x1ff3403d130>,\n",
       " <keras.engine.sequential.Sequential at 0x1ffd74163a0>,\n",
       " <keras.engine.sequential.Sequential at 0x1ff783b87f0>,\n",
       " <keras.engine.sequential.Sequential at 0x1ffd87edbe0>,\n",
       " <keras.engine.sequential.Sequential at 0x1ffd87d9c70>,\n",
       " <keras.engine.sequential.Sequential at 0x1ffdb4fb4f0>,\n",
       " <keras.engine.sequential.Sequential at 0x1ff781d69a0>,\n",
       " <keras.engine.sequential.Sequential at 0x1ffdb4e6340>,\n",
       " <keras.engine.sequential.Sequential at 0x1ffd7474370>]"
      ]
     },
     "execution_count": 42,
     "metadata": {},
     "output_type": "execute_result"
    }
   ],
   "source": [
    "MNIST_Kfold_models"
   ]
  },
  {
   "cell_type": "markdown",
   "id": "18323b75",
   "metadata": {},
   "source": [
    "### Preciding using the above models"
   ]
  },
  {
   "cell_type": "code",
   "execution_count": 43,
   "id": "514a1335",
   "metadata": {
    "scrolled": true
   },
   "outputs": [],
   "source": [
    "predictions_Kfold_models=[]\n",
    "for Kf_model in MNIST_Kfold_models:\n",
    "    result=(Kf_model.predict(X_Kfold[test_index]) > 0.5).astype(int)\n",
    "    class_result=np.argmax(result, axis=1)\n",
    "    predictions_Kfold_models.append(class_result)"
   ]
  },
  {
   "cell_type": "markdown",
   "id": "35eeaecb",
   "metadata": {},
   "source": [
    "### Predictions of the 10 fold CNN models"
   ]
  },
  {
   "cell_type": "code",
   "execution_count": 44,
   "id": "a0a495e4",
   "metadata": {
    "scrolled": true
   },
   "outputs": [
    {
     "data": {
      "text/plain": [
       "[array([1, 3, 6, ..., 6, 0, 1], dtype=int64),\n",
       " array([1, 3, 6, ..., 6, 0, 1], dtype=int64),\n",
       " array([1, 3, 6, ..., 6, 0, 1], dtype=int64),\n",
       " array([1, 3, 6, ..., 6, 0, 1], dtype=int64),\n",
       " array([1, 3, 6, ..., 6, 0, 1], dtype=int64),\n",
       " array([1, 3, 6, ..., 6, 0, 1], dtype=int64),\n",
       " array([1, 3, 6, ..., 6, 0, 1], dtype=int64),\n",
       " array([1, 3, 6, ..., 6, 0, 1], dtype=int64),\n",
       " array([1, 3, 6, ..., 6, 0, 1], dtype=int64),\n",
       " array([1, 3, 6, ..., 6, 0, 1], dtype=int64)]"
      ]
     },
     "execution_count": 44,
     "metadata": {},
     "output_type": "execute_result"
    }
   ],
   "source": [
    "predictions_Kfold_models"
   ]
  },
  {
   "cell_type": "markdown",
   "id": "8fbb6ed6",
   "metadata": {},
   "source": [
    "### Creating a Dataframe of the results"
   ]
  },
  {
   "cell_type": "code",
   "execution_count": 45,
   "id": "cc918fee",
   "metadata": {
    "scrolled": true
   },
   "outputs": [
    {
     "data": {
      "text/html": [
       "<div>\n",
       "<style scoped>\n",
       "    .dataframe tbody tr th:only-of-type {\n",
       "        vertical-align: middle;\n",
       "    }\n",
       "\n",
       "    .dataframe tbody tr th {\n",
       "        vertical-align: top;\n",
       "    }\n",
       "\n",
       "    .dataframe thead th {\n",
       "        text-align: right;\n",
       "    }\n",
       "</style>\n",
       "<table border=\"1\" class=\"dataframe\">\n",
       "  <thead>\n",
       "    <tr style=\"text-align: right;\">\n",
       "      <th></th>\n",
       "      <th>0</th>\n",
       "      <th>1</th>\n",
       "      <th>2</th>\n",
       "      <th>3</th>\n",
       "      <th>4</th>\n",
       "      <th>5</th>\n",
       "      <th>6</th>\n",
       "      <th>7</th>\n",
       "      <th>8</th>\n",
       "      <th>9</th>\n",
       "      <th>...</th>\n",
       "      <th>6990</th>\n",
       "      <th>6991</th>\n",
       "      <th>6992</th>\n",
       "      <th>6993</th>\n",
       "      <th>6994</th>\n",
       "      <th>6995</th>\n",
       "      <th>6996</th>\n",
       "      <th>6997</th>\n",
       "      <th>6998</th>\n",
       "      <th>6999</th>\n",
       "    </tr>\n",
       "  </thead>\n",
       "  <tbody>\n",
       "    <tr>\n",
       "      <th>0</th>\n",
       "      <td>1</td>\n",
       "      <td>3</td>\n",
       "      <td>6</td>\n",
       "      <td>2</td>\n",
       "      <td>4</td>\n",
       "      <td>8</td>\n",
       "      <td>4</td>\n",
       "      <td>0</td>\n",
       "      <td>1</td>\n",
       "      <td>4</td>\n",
       "      <td>...</td>\n",
       "      <td>8</td>\n",
       "      <td>3</td>\n",
       "      <td>1</td>\n",
       "      <td>0</td>\n",
       "      <td>0</td>\n",
       "      <td>8</td>\n",
       "      <td>4</td>\n",
       "      <td>6</td>\n",
       "      <td>0</td>\n",
       "      <td>1</td>\n",
       "    </tr>\n",
       "    <tr>\n",
       "      <th>1</th>\n",
       "      <td>1</td>\n",
       "      <td>3</td>\n",
       "      <td>6</td>\n",
       "      <td>2</td>\n",
       "      <td>4</td>\n",
       "      <td>8</td>\n",
       "      <td>4</td>\n",
       "      <td>0</td>\n",
       "      <td>1</td>\n",
       "      <td>4</td>\n",
       "      <td>...</td>\n",
       "      <td>8</td>\n",
       "      <td>3</td>\n",
       "      <td>1</td>\n",
       "      <td>0</td>\n",
       "      <td>0</td>\n",
       "      <td>8</td>\n",
       "      <td>4</td>\n",
       "      <td>6</td>\n",
       "      <td>0</td>\n",
       "      <td>1</td>\n",
       "    </tr>\n",
       "    <tr>\n",
       "      <th>2</th>\n",
       "      <td>1</td>\n",
       "      <td>3</td>\n",
       "      <td>6</td>\n",
       "      <td>2</td>\n",
       "      <td>4</td>\n",
       "      <td>8</td>\n",
       "      <td>4</td>\n",
       "      <td>0</td>\n",
       "      <td>1</td>\n",
       "      <td>4</td>\n",
       "      <td>...</td>\n",
       "      <td>8</td>\n",
       "      <td>3</td>\n",
       "      <td>1</td>\n",
       "      <td>0</td>\n",
       "      <td>0</td>\n",
       "      <td>8</td>\n",
       "      <td>4</td>\n",
       "      <td>6</td>\n",
       "      <td>0</td>\n",
       "      <td>1</td>\n",
       "    </tr>\n",
       "    <tr>\n",
       "      <th>3</th>\n",
       "      <td>1</td>\n",
       "      <td>3</td>\n",
       "      <td>6</td>\n",
       "      <td>2</td>\n",
       "      <td>4</td>\n",
       "      <td>8</td>\n",
       "      <td>4</td>\n",
       "      <td>0</td>\n",
       "      <td>1</td>\n",
       "      <td>4</td>\n",
       "      <td>...</td>\n",
       "      <td>8</td>\n",
       "      <td>3</td>\n",
       "      <td>1</td>\n",
       "      <td>0</td>\n",
       "      <td>0</td>\n",
       "      <td>8</td>\n",
       "      <td>4</td>\n",
       "      <td>6</td>\n",
       "      <td>0</td>\n",
       "      <td>1</td>\n",
       "    </tr>\n",
       "    <tr>\n",
       "      <th>4</th>\n",
       "      <td>1</td>\n",
       "      <td>3</td>\n",
       "      <td>6</td>\n",
       "      <td>2</td>\n",
       "      <td>4</td>\n",
       "      <td>8</td>\n",
       "      <td>4</td>\n",
       "      <td>0</td>\n",
       "      <td>1</td>\n",
       "      <td>4</td>\n",
       "      <td>...</td>\n",
       "      <td>8</td>\n",
       "      <td>3</td>\n",
       "      <td>1</td>\n",
       "      <td>0</td>\n",
       "      <td>0</td>\n",
       "      <td>8</td>\n",
       "      <td>4</td>\n",
       "      <td>6</td>\n",
       "      <td>0</td>\n",
       "      <td>1</td>\n",
       "    </tr>\n",
       "    <tr>\n",
       "      <th>5</th>\n",
       "      <td>1</td>\n",
       "      <td>3</td>\n",
       "      <td>6</td>\n",
       "      <td>2</td>\n",
       "      <td>4</td>\n",
       "      <td>8</td>\n",
       "      <td>4</td>\n",
       "      <td>0</td>\n",
       "      <td>1</td>\n",
       "      <td>4</td>\n",
       "      <td>...</td>\n",
       "      <td>8</td>\n",
       "      <td>3</td>\n",
       "      <td>1</td>\n",
       "      <td>0</td>\n",
       "      <td>0</td>\n",
       "      <td>8</td>\n",
       "      <td>4</td>\n",
       "      <td>6</td>\n",
       "      <td>0</td>\n",
       "      <td>1</td>\n",
       "    </tr>\n",
       "    <tr>\n",
       "      <th>6</th>\n",
       "      <td>1</td>\n",
       "      <td>3</td>\n",
       "      <td>6</td>\n",
       "      <td>2</td>\n",
       "      <td>4</td>\n",
       "      <td>8</td>\n",
       "      <td>4</td>\n",
       "      <td>0</td>\n",
       "      <td>1</td>\n",
       "      <td>4</td>\n",
       "      <td>...</td>\n",
       "      <td>8</td>\n",
       "      <td>3</td>\n",
       "      <td>1</td>\n",
       "      <td>0</td>\n",
       "      <td>0</td>\n",
       "      <td>8</td>\n",
       "      <td>4</td>\n",
       "      <td>6</td>\n",
       "      <td>0</td>\n",
       "      <td>1</td>\n",
       "    </tr>\n",
       "    <tr>\n",
       "      <th>7</th>\n",
       "      <td>1</td>\n",
       "      <td>3</td>\n",
       "      <td>6</td>\n",
       "      <td>2</td>\n",
       "      <td>4</td>\n",
       "      <td>8</td>\n",
       "      <td>4</td>\n",
       "      <td>0</td>\n",
       "      <td>1</td>\n",
       "      <td>4</td>\n",
       "      <td>...</td>\n",
       "      <td>8</td>\n",
       "      <td>3</td>\n",
       "      <td>1</td>\n",
       "      <td>0</td>\n",
       "      <td>0</td>\n",
       "      <td>8</td>\n",
       "      <td>4</td>\n",
       "      <td>6</td>\n",
       "      <td>0</td>\n",
       "      <td>1</td>\n",
       "    </tr>\n",
       "    <tr>\n",
       "      <th>8</th>\n",
       "      <td>1</td>\n",
       "      <td>3</td>\n",
       "      <td>6</td>\n",
       "      <td>2</td>\n",
       "      <td>4</td>\n",
       "      <td>8</td>\n",
       "      <td>4</td>\n",
       "      <td>0</td>\n",
       "      <td>1</td>\n",
       "      <td>4</td>\n",
       "      <td>...</td>\n",
       "      <td>8</td>\n",
       "      <td>3</td>\n",
       "      <td>1</td>\n",
       "      <td>0</td>\n",
       "      <td>0</td>\n",
       "      <td>8</td>\n",
       "      <td>4</td>\n",
       "      <td>6</td>\n",
       "      <td>0</td>\n",
       "      <td>1</td>\n",
       "    </tr>\n",
       "    <tr>\n",
       "      <th>9</th>\n",
       "      <td>1</td>\n",
       "      <td>3</td>\n",
       "      <td>6</td>\n",
       "      <td>2</td>\n",
       "      <td>4</td>\n",
       "      <td>8</td>\n",
       "      <td>4</td>\n",
       "      <td>0</td>\n",
       "      <td>1</td>\n",
       "      <td>4</td>\n",
       "      <td>...</td>\n",
       "      <td>8</td>\n",
       "      <td>3</td>\n",
       "      <td>1</td>\n",
       "      <td>0</td>\n",
       "      <td>0</td>\n",
       "      <td>8</td>\n",
       "      <td>4</td>\n",
       "      <td>6</td>\n",
       "      <td>0</td>\n",
       "      <td>1</td>\n",
       "    </tr>\n",
       "  </tbody>\n",
       "</table>\n",
       "<p>10 rows × 7000 columns</p>\n",
       "</div>"
      ],
      "text/plain": [
       "   0     1     2     3     4     5     6     7     8     9     ...  6990  \\\n",
       "0     1     3     6     2     4     8     4     0     1     4  ...     8   \n",
       "1     1     3     6     2     4     8     4     0     1     4  ...     8   \n",
       "2     1     3     6     2     4     8     4     0     1     4  ...     8   \n",
       "3     1     3     6     2     4     8     4     0     1     4  ...     8   \n",
       "4     1     3     6     2     4     8     4     0     1     4  ...     8   \n",
       "5     1     3     6     2     4     8     4     0     1     4  ...     8   \n",
       "6     1     3     6     2     4     8     4     0     1     4  ...     8   \n",
       "7     1     3     6     2     4     8     4     0     1     4  ...     8   \n",
       "8     1     3     6     2     4     8     4     0     1     4  ...     8   \n",
       "9     1     3     6     2     4     8     4     0     1     4  ...     8   \n",
       "\n",
       "   6991  6992  6993  6994  6995  6996  6997  6998  6999  \n",
       "0     3     1     0     0     8     4     6     0     1  \n",
       "1     3     1     0     0     8     4     6     0     1  \n",
       "2     3     1     0     0     8     4     6     0     1  \n",
       "3     3     1     0     0     8     4     6     0     1  \n",
       "4     3     1     0     0     8     4     6     0     1  \n",
       "5     3     1     0     0     8     4     6     0     1  \n",
       "6     3     1     0     0     8     4     6     0     1  \n",
       "7     3     1     0     0     8     4     6     0     1  \n",
       "8     3     1     0     0     8     4     6     0     1  \n",
       "9     3     1     0     0     8     4     6     0     1  \n",
       "\n",
       "[10 rows x 7000 columns]"
      ]
     },
     "execution_count": 45,
     "metadata": {},
     "output_type": "execute_result"
    }
   ],
   "source": [
    "result_data=pd.DataFrame(predictions_Kfold_models)\n",
    "result_data.head(10)"
   ]
  },
  {
   "cell_type": "markdown",
   "id": "0d8cfa9c",
   "metadata": {},
   "source": [
    "### Final Result from the ensemble of 10 fold CNN Models"
   ]
  },
  {
   "cell_type": "code",
   "execution_count": 46,
   "id": "d267246a",
   "metadata": {},
   "outputs": [
    {
     "name": "stdout",
     "output_type": "stream",
     "text": [
      "[1 3 6 ... 6 0 1]\n"
     ]
    }
   ],
   "source": [
    "final_result = result_data.mode().values\n",
    "print(final_result[0])"
   ]
  },
  {
   "cell_type": "markdown",
   "id": "6b0c65cd",
   "metadata": {},
   "source": [
    "### Classification Report"
   ]
  },
  {
   "cell_type": "code",
   "execution_count": 54,
   "id": "019cdea9",
   "metadata": {},
   "outputs": [
    {
     "name": "stdout",
     "output_type": "stream",
     "text": [
      "Classification Report of KFOLD CNN model 1 \n",
      "\n",
      "              precision    recall  f1-score   support\n",
      "\n",
      "           0       1.00      1.00      1.00       691\n",
      "           1       1.00      1.00      1.00       788\n",
      "           2       1.00      0.99      1.00       703\n",
      "           3       1.00      0.99      1.00       719\n",
      "           4       1.00      1.00      1.00       684\n",
      "           5       1.00      0.99      0.99       632\n",
      "           6       0.99      1.00      1.00       686\n",
      "           7       0.99      1.00      1.00       724\n",
      "           8       0.99      1.00      1.00       680\n",
      "           9       0.99      1.00      1.00       693\n",
      "\n",
      "    accuracy                           1.00      7000\n",
      "   macro avg       1.00      1.00      1.00      7000\n",
      "weighted avg       1.00      1.00      1.00      7000\n",
      "\n",
      "Classification Report of KFOLD CNN model 2 \n",
      "\n",
      "              precision    recall  f1-score   support\n",
      "\n",
      "           0       1.00      1.00      1.00       691\n",
      "           1       1.00      1.00      1.00       788\n",
      "           2       1.00      0.99      1.00       703\n",
      "           3       1.00      0.99      1.00       719\n",
      "           4       1.00      1.00      1.00       684\n",
      "           5       1.00      0.99      0.99       632\n",
      "           6       0.99      1.00      1.00       686\n",
      "           7       0.99      1.00      1.00       724\n",
      "           8       0.99      1.00      1.00       680\n",
      "           9       0.99      1.00      1.00       693\n",
      "\n",
      "    accuracy                           1.00      7000\n",
      "   macro avg       1.00      1.00      1.00      7000\n",
      "weighted avg       1.00      1.00      1.00      7000\n",
      "\n",
      "Classification Report of KFOLD CNN model 3 \n",
      "\n",
      "              precision    recall  f1-score   support\n",
      "\n",
      "           0       1.00      1.00      1.00       691\n",
      "           1       1.00      1.00      1.00       788\n",
      "           2       1.00      0.99      1.00       703\n",
      "           3       1.00      0.99      1.00       719\n",
      "           4       1.00      1.00      1.00       684\n",
      "           5       1.00      0.99      0.99       632\n",
      "           6       0.99      1.00      1.00       686\n",
      "           7       0.99      1.00      1.00       724\n",
      "           8       0.99      1.00      1.00       680\n",
      "           9       0.99      1.00      1.00       693\n",
      "\n",
      "    accuracy                           1.00      7000\n",
      "   macro avg       1.00      1.00      1.00      7000\n",
      "weighted avg       1.00      1.00      1.00      7000\n",
      "\n",
      "Classification Report of KFOLD CNN model 4 \n",
      "\n",
      "              precision    recall  f1-score   support\n",
      "\n",
      "           0       1.00      1.00      1.00       691\n",
      "           1       1.00      1.00      1.00       788\n",
      "           2       1.00      0.99      1.00       703\n",
      "           3       1.00      0.99      1.00       719\n",
      "           4       1.00      1.00      1.00       684\n",
      "           5       1.00      0.99      0.99       632\n",
      "           6       0.99      1.00      1.00       686\n",
      "           7       0.99      1.00      1.00       724\n",
      "           8       0.99      1.00      1.00       680\n",
      "           9       0.99      1.00      1.00       693\n",
      "\n",
      "    accuracy                           1.00      7000\n",
      "   macro avg       1.00      1.00      1.00      7000\n",
      "weighted avg       1.00      1.00      1.00      7000\n",
      "\n",
      "Classification Report of KFOLD CNN model 5 \n",
      "\n",
      "              precision    recall  f1-score   support\n",
      "\n",
      "           0       1.00      1.00      1.00       691\n",
      "           1       1.00      1.00      1.00       788\n",
      "           2       1.00      0.99      1.00       703\n",
      "           3       1.00      0.99      1.00       719\n",
      "           4       1.00      1.00      1.00       684\n",
      "           5       1.00      0.99      0.99       632\n",
      "           6       0.99      1.00      1.00       686\n",
      "           7       0.99      1.00      1.00       724\n",
      "           8       0.99      1.00      1.00       680\n",
      "           9       0.99      1.00      1.00       693\n",
      "\n",
      "    accuracy                           1.00      7000\n",
      "   macro avg       1.00      1.00      1.00      7000\n",
      "weighted avg       1.00      1.00      1.00      7000\n",
      "\n",
      "Classification Report of KFOLD CNN model 6 \n",
      "\n",
      "              precision    recall  f1-score   support\n",
      "\n",
      "           0       1.00      1.00      1.00       691\n",
      "           1       1.00      1.00      1.00       788\n",
      "           2       1.00      0.99      1.00       703\n",
      "           3       1.00      0.99      1.00       719\n",
      "           4       1.00      1.00      1.00       684\n",
      "           5       1.00      0.99      0.99       632\n",
      "           6       0.99      1.00      1.00       686\n",
      "           7       0.99      1.00      1.00       724\n",
      "           8       0.99      1.00      1.00       680\n",
      "           9       0.99      1.00      1.00       693\n",
      "\n",
      "    accuracy                           1.00      7000\n",
      "   macro avg       1.00      1.00      1.00      7000\n",
      "weighted avg       1.00      1.00      1.00      7000\n",
      "\n",
      "Classification Report of KFOLD CNN model 7 \n",
      "\n",
      "              precision    recall  f1-score   support\n",
      "\n",
      "           0       1.00      1.00      1.00       691\n",
      "           1       1.00      1.00      1.00       788\n",
      "           2       1.00      0.99      1.00       703\n",
      "           3       1.00      0.99      1.00       719\n",
      "           4       1.00      1.00      1.00       684\n",
      "           5       1.00      0.99      0.99       632\n",
      "           6       0.99      1.00      1.00       686\n",
      "           7       0.99      1.00      1.00       724\n",
      "           8       0.99      1.00      1.00       680\n",
      "           9       0.99      1.00      1.00       693\n",
      "\n",
      "    accuracy                           1.00      7000\n",
      "   macro avg       1.00      1.00      1.00      7000\n",
      "weighted avg       1.00      1.00      1.00      7000\n",
      "\n",
      "Classification Report of KFOLD CNN model 8 \n",
      "\n",
      "              precision    recall  f1-score   support\n",
      "\n",
      "           0       1.00      1.00      1.00       691\n",
      "           1       1.00      1.00      1.00       788\n",
      "           2       1.00      0.99      1.00       703\n",
      "           3       1.00      0.99      1.00       719\n",
      "           4       1.00      1.00      1.00       684\n",
      "           5       1.00      0.99      0.99       632\n",
      "           6       0.99      1.00      1.00       686\n",
      "           7       0.99      1.00      1.00       724\n",
      "           8       0.99      1.00      1.00       680\n",
      "           9       0.99      1.00      1.00       693\n",
      "\n",
      "    accuracy                           1.00      7000\n",
      "   macro avg       1.00      1.00      1.00      7000\n",
      "weighted avg       1.00      1.00      1.00      7000\n",
      "\n",
      "Classification Report of KFOLD CNN model 9 \n",
      "\n",
      "              precision    recall  f1-score   support\n",
      "\n",
      "           0       1.00      1.00      1.00       691\n",
      "           1       1.00      1.00      1.00       788\n",
      "           2       1.00      0.99      1.00       703\n",
      "           3       1.00      0.99      1.00       719\n",
      "           4       1.00      1.00      1.00       684\n",
      "           5       1.00      0.99      0.99       632\n",
      "           6       0.99      1.00      1.00       686\n",
      "           7       0.99      1.00      1.00       724\n",
      "           8       0.99      1.00      1.00       680\n",
      "           9       0.99      1.00      1.00       693\n",
      "\n",
      "    accuracy                           1.00      7000\n",
      "   macro avg       1.00      1.00      1.00      7000\n",
      "weighted avg       1.00      1.00      1.00      7000\n",
      "\n",
      "Classification Report of KFOLD CNN model 10 \n",
      "\n",
      "              precision    recall  f1-score   support\n",
      "\n",
      "           0       1.00      1.00      1.00       691\n",
      "           1       1.00      1.00      1.00       788\n",
      "           2       1.00      0.99      1.00       703\n",
      "           3       1.00      0.99      1.00       719\n",
      "           4       1.00      1.00      1.00       684\n",
      "           5       1.00      0.99      0.99       632\n",
      "           6       0.99      1.00      1.00       686\n",
      "           7       0.99      1.00      1.00       724\n",
      "           8       0.99      1.00      1.00       680\n",
      "           9       0.99      1.00      1.00       693\n",
      "\n",
      "    accuracy                           1.00      7000\n",
      "   macro avg       1.00      1.00      1.00      7000\n",
      "weighted avg       1.00      1.00      1.00      7000\n",
      "\n"
     ]
    }
   ],
   "source": [
    "model_number=1\n",
    "for n_predictions in predictions_Kfold_models:\n",
    "    print(f'Classification Report of KFOLD CNN model {model_number} \\n')\n",
    "    print(classification_report(n_predictions,np.argmax(y_Kfold[test_index], axis=1)))\n",
    "    model_number+=1"
   ]
  }
 ],
 "metadata": {
  "kernelspec": {
   "display_name": "Python 3 (ipykernel)",
   "language": "python",
   "name": "python3"
  },
  "language_info": {
   "codemirror_mode": {
    "name": "ipython",
    "version": 3
   },
   "file_extension": ".py",
   "mimetype": "text/x-python",
   "name": "python",
   "nbconvert_exporter": "python",
   "pygments_lexer": "ipython3",
   "version": "3.9.7"
  }
 },
 "nbformat": 4,
 "nbformat_minor": 5
}
